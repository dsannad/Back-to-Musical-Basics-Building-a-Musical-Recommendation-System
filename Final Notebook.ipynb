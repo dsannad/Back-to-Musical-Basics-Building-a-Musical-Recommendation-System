{
 "cells": [
  {
   "cell_type": "markdown",
   "metadata": {},
   "source": [
    "# Data Collection\n"
   ]
  },
  {
   "cell_type": "markdown",
   "metadata": {},
   "source": [
    "https://labrosa.ee.columbia.edu/millionsong/pages/getting-dataset#subset"
   ]
  },
  {
   "cell_type": "markdown",
   "metadata": {},
   "source": [
    "What I wanted to do originally was pull everything out of this subset from the Million Song Dataset so this subset of the dataset was a collection of 10,000 random songs of the random 1 million from the larger set. Each song was an hdf5 file zipped up into tar.gz so I used an hdf5 getters script from tbertinmahieux on github: https://github.com/tbertinmahieux/MSongsDB/tree/master/PythonSrc to extract my needed information from the subset. "
   ]
  },
  {
   "cell_type": "code",
   "execution_count": 2,
   "metadata": {},
   "outputs": [],
   "source": [
    "import numpy as np\n",
    "import pandas as pd\n",
    "import matplotlib.pyplot as plt\n",
    "import seaborn as sns\n",
    "import time\n",
    "import glob\n",
    "import datetime\n"
   ]
  },
  {
   "cell_type": "markdown",
   "metadata": {},
   "source": [
    "The hdf5 getters script, which was used, but not included, consists of getter functions that would return specific parts of the hdf5 file. Rather than work through the entire data set to put the hdf5 entries together, I opted to use the script to extract the specific features I would eventually use and then combined those into a dataframe. "
   ]
  },
  {
   "cell_type": "code",
   "execution_count": null,
   "metadata": {},
   "outputs": [],
   "source": [
    "#I globbed the entire subset together in order to easily extract the features all at once\n",
    "import glob\n",
    "files = glob.glob('D:/Downloads/millionsongsubset_full.tar/millionsongsubset_full/MillionSongSubset/data/*/*/*/*.h5')\n",
    "len(files)"
   ]
  },
  {
   "cell_type": "code",
   "execution_count": null,
   "metadata": {},
   "outputs": [],
   "source": [
    "#made all of the features I needed to extract into a list\n",
    "artist_name,danceability,duration,energy,key,loudness,mode,mode_confidence,tempo, time_signature, time_signature_confidence,title = ([] for i in range(12))"
   ]
  },
  {
   "cell_type": "markdown",
   "metadata": {},
   "source": [
    "At this point, I was ready to make a dataframe of all the songs in the dataset. "
   ]
  },
  {
   "cell_type": "code",
   "execution_count": null,
   "metadata": {},
   "outputs": [],
   "source": [
    "for f in files:\n",
    "    \n",
    "    h5 = open_h5_file_read(f)\n",
    "    #get all the necessary feature categories\n",
    "    track_danceability = get_danceability(h5)\n",
    "    track_key = get_key(h5)\n",
    "    track_loudness = get_loudness(h5)\n",
    "    ttempo = get_tempo(h5)\n",
    "    time_sig = get_time_signature(h5)\n",
    "    song_title = get_title(h5)\n",
    "    track_energy = get_energy(h5)\n",
    "    track_duration = get_duration(h5)\n",
    "    name = get_artist_name(h5)\n",
    "    track_mode = get_mode(h5)\n",
    "    m_confidence = get_mode_confidence(h5)\n",
    "    sig_confidence = get_time_signature_confidence(h5)\n",
    " \n",
    "    \n",
    "    danceability.append(track_danceability)\n",
    "    key.append(track_key)\n",
    "    loudness.append(track_loudness)\n",
    "    tempo.append(ttempo)\n",
    "    time_signature.append(time_sig)\n",
    "    title.append(song_title)\n",
    "    energy.append(track_energy)\n",
    "    duration.append(track_duration)\n",
    "    artist_name.append(name)\n",
    "    mode.append(track_mode)\n",
    "    mode_confidence.append(m_confidence)\n",
    "    time_signature_confidence.append(sig_confidence)\n",
    "\n",
    "    h5.close()\n",
    "\n",
    "song_data = {'title':title,\n",
    "             'danceability':danceability,\n",
    "             'key':key,\n",
    "             'loudness':loudness,\n",
    "             'tempo':tempo,\n",
    "             'time_signature':time_signature,\n",
    "             'time_signature_confidence':time_signature_confidence,\n",
    "             'energy':energy,\n",
    "             'duration':duration,\n",
    "             'artist_name':artist_name,\n",
    "             'mode':mode,\n",
    "             'mode_confidence':mode_confidence\n",
    "            }\n",
    "songs = pd.DataFrame(song_data)\n",
    "songs.to_csv(r'C:\\Users\\Anna\\Desktop\\MSD_subset.csv')"
   ]
  },
  {
   "cell_type": "code",
   "execution_count": 14,
   "metadata": {},
   "outputs": [],
   "source": [
    "songs = pd.read_csv(r'C:\\Users\\Anna\\Desktop\\MSD_subset.csv',index_col=0)"
   ]
  },
  {
   "cell_type": "markdown",
   "metadata": {},
   "source": [
    "It was at this point, after the describe, that I found out the subset was lacking in a lot of the categories that I needed and I decided to use the subset as a list to search through and find the data for, which I knew was available on Spotify. This ended up being a lengthy two part process, in which I used Spotify's search with the song title and artist name to get the Spotify ID, then using the Spotify IDs to gather the audio features"
   ]
  },
  {
   "cell_type": "code",
   "execution_count": 15,
   "metadata": {},
   "outputs": [],
   "source": [
    "#In order to actually use them in search, as you can see from above, there was cleaning necessarily on the strings to be able to use them.\n",
    "df = songs.copy()\n",
    "df['artist_name']=df['artist_name'].str[2:-1]\n",
    "df['title']=df['title'].str[2:-1]"
   ]
  },
  {
   "cell_type": "code",
   "execution_count": 17,
   "metadata": {},
   "outputs": [],
   "source": [
    "#made a separate dataframe where the only parts included are the artist name and title \n",
    "search_param = df[['artist_name','title']]"
   ]
  },
  {
   "cell_type": "markdown",
   "metadata": {},
   "source": [
    "The Spotipy wrapper allows me to easily connect with the Spotify API, so here I import it, and in the manager, include the client ID and client secret which allows me to start up an instance of sp which allows me to begin querying the Spotify API. Then with the search string made, I can use \"search\" to return the track ID. "
   ]
  },
  {
   "cell_type": "code",
   "execution_count": null,
   "metadata": {},
   "outputs": [],
   "source": [
    "import spotipy\n",
    "from __future__ import print_function    # (at top of module)\n",
    "from spotipy.oauth2 import SpotifyClientCredentials\n",
    "import json\n",
    "import time\n",
    "import sys\n",
    "import pprint\n",
    "\n",
    "\n",
    "client_credentials_manager = SpotifyClientCredentials(client_id='7c9c6c70bbcf4ab889e5dcdff781cc9e',client_secret=clientsecret)\n",
    "sp = spotipy.Spotify(client_credentials_manager=client_credentials_manager)\n"
   ]
  },
  {
   "cell_type": "code",
   "execution_count": 21,
   "metadata": {},
   "outputs": [],
   "source": [
    "searchstrings = []\n",
    "for i in range(10000):\n",
    "    searchstrings.append('artist:'+search_param.iloc[i][0]+' track:'+search_param.iloc[i][1]) \n",
    "    #This takes my dataframe of artist and song names and combines them into one string in\n",
    "    #the format that the Spotify API accepts to search"
   ]
  },
  {
   "cell_type": "code",
   "execution_count": 20,
   "metadata": {},
   "outputs": [
    {
     "data": {
      "text/html": [
       "<div>\n",
       "<style scoped>\n",
       "    .dataframe tbody tr th:only-of-type {\n",
       "        vertical-align: middle;\n",
       "    }\n",
       "\n",
       "    .dataframe tbody tr th {\n",
       "        vertical-align: top;\n",
       "    }\n",
       "\n",
       "    .dataframe thead th {\n",
       "        text-align: right;\n",
       "    }\n",
       "</style>\n",
       "<table border=\"1\" class=\"dataframe\">\n",
       "  <thead>\n",
       "    <tr style=\"text-align: right;\">\n",
       "      <th></th>\n",
       "      <th>artist_name</th>\n",
       "      <th>danceability</th>\n",
       "      <th>duration</th>\n",
       "      <th>energy</th>\n",
       "      <th>key</th>\n",
       "      <th>loudness</th>\n",
       "      <th>mode</th>\n",
       "      <th>mode_confidence</th>\n",
       "      <th>tempo</th>\n",
       "      <th>time_signature</th>\n",
       "      <th>time_signature_confidence</th>\n",
       "      <th>title</th>\n",
       "    </tr>\n",
       "  </thead>\n",
       "  <tbody>\n",
       "    <tr>\n",
       "      <th>0</th>\n",
       "      <td>Casual</td>\n",
       "      <td>0.0</td>\n",
       "      <td>218.93179</td>\n",
       "      <td>0.0</td>\n",
       "      <td>1</td>\n",
       "      <td>-11.197</td>\n",
       "      <td>0</td>\n",
       "      <td>0.636</td>\n",
       "      <td>92.198</td>\n",
       "      <td>4</td>\n",
       "      <td>0.778</td>\n",
       "      <td>I Didn't Mean To</td>\n",
       "    </tr>\n",
       "    <tr>\n",
       "      <th>1</th>\n",
       "      <td>The Box Tops</td>\n",
       "      <td>0.0</td>\n",
       "      <td>148.03546</td>\n",
       "      <td>0.0</td>\n",
       "      <td>6</td>\n",
       "      <td>-9.843</td>\n",
       "      <td>0</td>\n",
       "      <td>0.430</td>\n",
       "      <td>121.274</td>\n",
       "      <td>4</td>\n",
       "      <td>0.384</td>\n",
       "      <td>Soul Deep</td>\n",
       "    </tr>\n",
       "    <tr>\n",
       "      <th>2</th>\n",
       "      <td>Sonora Santanera</td>\n",
       "      <td>0.0</td>\n",
       "      <td>177.47546</td>\n",
       "      <td>0.0</td>\n",
       "      <td>8</td>\n",
       "      <td>-9.689</td>\n",
       "      <td>1</td>\n",
       "      <td>0.565</td>\n",
       "      <td>100.070</td>\n",
       "      <td>1</td>\n",
       "      <td>0.000</td>\n",
       "      <td>Amor De Cabaret</td>\n",
       "    </tr>\n",
       "    <tr>\n",
       "      <th>3</th>\n",
       "      <td>Adam Ant</td>\n",
       "      <td>0.0</td>\n",
       "      <td>233.40363</td>\n",
       "      <td>0.0</td>\n",
       "      <td>0</td>\n",
       "      <td>-9.013</td>\n",
       "      <td>1</td>\n",
       "      <td>0.749</td>\n",
       "      <td>119.293</td>\n",
       "      <td>4</td>\n",
       "      <td>0.000</td>\n",
       "      <td>Something Girls</td>\n",
       "    </tr>\n",
       "    <tr>\n",
       "      <th>4</th>\n",
       "      <td>Gob</td>\n",
       "      <td>0.0</td>\n",
       "      <td>209.60608</td>\n",
       "      <td>0.0</td>\n",
       "      <td>2</td>\n",
       "      <td>-4.501</td>\n",
       "      <td>1</td>\n",
       "      <td>0.371</td>\n",
       "      <td>129.738</td>\n",
       "      <td>4</td>\n",
       "      <td>0.562</td>\n",
       "      <td>Face the Ashes</td>\n",
       "    </tr>\n",
       "  </tbody>\n",
       "</table>\n",
       "</div>"
      ],
      "text/plain": [
       "        artist_name  danceability   duration  energy  key  loudness  mode  \\\n",
       "0            Casual           0.0  218.93179     0.0    1   -11.197     0   \n",
       "1      The Box Tops           0.0  148.03546     0.0    6    -9.843     0   \n",
       "2  Sonora Santanera           0.0  177.47546     0.0    8    -9.689     1   \n",
       "3          Adam Ant           0.0  233.40363     0.0    0    -9.013     1   \n",
       "4               Gob           0.0  209.60608     0.0    2    -4.501     1   \n",
       "\n",
       "   mode_confidence    tempo  time_signature  time_signature_confidence  \\\n",
       "0            0.636   92.198               4                      0.778   \n",
       "1            0.430  121.274               4                      0.384   \n",
       "2            0.565  100.070               1                      0.000   \n",
       "3            0.749  119.293               4                      0.000   \n",
       "4            0.371  129.738               4                      0.562   \n",
       "\n",
       "              title  \n",
       "0  I Didn't Mean To  \n",
       "1         Soul Deep  \n",
       "2   Amor De Cabaret  \n",
       "3   Something Girls  \n",
       "4    Face the Ashes  "
      ]
     },
     "execution_count": 20,
     "metadata": {},
     "output_type": "execute_result"
    }
   ],
   "source": [
    "df.head()"
   ]
  },
  {
   "cell_type": "code",
   "execution_count": null,
   "metadata": {},
   "outputs": [],
   "source": [
    "trackids = []\n",
    "for x in range(10000):\n",
    "    try:\n",
    "        search_str = searchstrings[x]\n",
    "        result = sp.search(search_str,limit=1)\n",
    "        trackid = result['tracks']['items'][0]['uri']\n",
    "        trackids.append(trackid)\n",
    "    except IndexError: #included IndexError to deal with songs that were not in the Spotify API, skipped and moved to next song\n",
    "        pass\n",
    "    "
   ]
  },
  {
   "cell_type": "markdown",
   "metadata": {},
   "source": [
    "This gave me a list of trackids. When I finished, I realized that the total was not enough, since some of the song title/artist name combinations were not in the Spotify API, so I imported one more bit of the big set, and set out to get the track ids once more, as shown below. Now that I know exactly what I need, I no longer need to include all the extra features and can just query for specific features, in this case, just the title and artist name."
   ]
  },
  {
   "cell_type": "code",
   "execution_count": null,
   "metadata": {},
   "outputs": [],
   "source": [
    "import glob\n",
    "files = glob.glob('F:/MSD/A.tar/*/*/*/*.h5') #get more of the rest of the dataset \n",
    "\n",
    "title = []\n",
    "artist_name=[]\n",
    "for f in files:\n",
    "    h5 = open_h5_file_read(f)\n",
    "    song_title = get_title(h5)\n",
    "    name = get_artist_name(h5)\n",
    "    title.append(song_title)\n",
    "    artist_name.append(name)\n",
    "    h5.close()\n",
    "song_data = {'title':title,'artist_name':artist_name}\n",
    "songs = pd.DataFrame(song_data)\n"
   ]
  },
  {
   "cell_type": "code",
   "execution_count": null,
   "metadata": {},
   "outputs": [],
   "source": [
    "songs = pd.read_csv(r'C:\\Users\\Anna\\Desktop\\MSD_subset2.csv',index_col=0)\n",
    "df = songs.copy()\n",
    "df['artist_name']=df['artist_name'].str[2:-1]\n",
    "df['title']=df['title'].str[2:-1]\n",
    "#cleaning it one more time for search. "
   ]
  },
  {
   "cell_type": "markdown",
   "metadata": {},
   "source": [
    "I then compiled them all together into one massive track id list. At which point I went back into the spotify API and pulled features for all of the track IDs."
   ]
  },
  {
   "cell_type": "code",
   "execution_count": null,
   "metadata": {},
   "outputs": [],
   "source": [
    "trackid = pd.read_csv(r'C:\\Users\\Anna\\Desktop\\Tracks.csv') \n",
    "tids = trackid['Track Ids'].tolist()\n",
    "\n",
    "df=pd.DataFrame()\n",
    "for i in range(0,29239,100):\n",
    "    tids = trackid[i:i+100] #Spotify sound accepts 100 inputs at a time for audio features, so I break it up here\n",
    "    start = time.time()\n",
    "    features = sp.audio_features(tids) #instead of using Spotify search, we use Spotify Web to get audio features\n",
    "    delta = time.time() - start\n",
    "    data = []\n",
    "    for feature in features:\n",
    "        data.append(feature)\n",
    "    if i==0:\n",
    "        df = pd.DataFrame(data)#initializes the dataframe so it doesnt throw an error when I start\n",
    "    else:\n",
    "        df2 = pd.DataFrame(data)\n",
    "        df= df.append(df2)#add each batch to the dataframe "
   ]
  },
  {
   "cell_type": "markdown",
   "metadata": {},
   "source": [
    "With some additional cleaning up to the dataframes because I had to do multiple batches due to hardware limitations, I ended up with a dataframe of all of the audio features from the songs that were in the subset and first part of the dataset. "
   ]
  },
  {
   "cell_type": "code",
   "execution_count": null,
   "metadata": {},
   "outputs": [],
   "source": [
    "df=pd.read_csv(r'C:\\Users\\Anna\\Desktop\\MSD_firstset.csv')\n",
    "print(df.shape)\n",
    "df.head()"
   ]
  },
  {
   "cell_type": "markdown",
   "metadata": {},
   "source": [
    "# Data Cleaning & EDA"
   ]
  },
  {
   "cell_type": "markdown",
   "metadata": {},
   "source": [
    "The problem is at this point I realized that the only identifying feature in this dataframe was the spotify track ID, so in return I decided to make a dictionary of track IDs with tracks as keys and song title as values. "
   ]
  },
  {
   "cell_type": "code",
   "execution_count": null,
   "metadata": {},
   "outputs": [],
   "source": [
    "#making my dictionary of names, artists, and track IDs \n",
    "names = []\n",
    "artists = []\n",
    "for i in range(0,len(tids),50):\n",
    "    trackids = tids[i:i+50]\n",
    "    result = sp.tracks(trackids) #grab the name and artist from the Spotify track ID\n",
    "    for each in range(len(trackids)):\n",
    "        name = result['tracks'][each]['name']\n",
    "        artist = result['tracks'][each]['artists'][0]['name']\n",
    "        names.append(name)\n",
    "        artists.append(artist)\n",
    "\n",
    "huh = {'id':tids,'Name':names,'Artist':artists}\n",
    "track_dict = pd.DataFrame(huh)\n",
    "#this is the dictionary\n",
    "\n",
    "what = pd.DataFrame([tids,names])\n",
    "what= what.T\n",
    "what.columns=['track','name'] \n",
    "#and this is a dataframe of that dictionary"
   ]
  },
  {
   "cell_type": "markdown",
   "metadata": {},
   "source": [
    "At this point I realized that there were duplicates in the subset and the dataset and that needed to be checked and removed so I did so below. "
   ]
  },
  {
   "cell_type": "code",
   "execution_count": null,
   "metadata": {},
   "outputs": [],
   "source": [
    "#below is how I figured out the duplicates\n",
    "pd.concat(g for _, g in what.groupby('track') if len(g) > 1)"
   ]
  },
  {
   "cell_type": "code",
   "execution_count": null,
   "metadata": {},
   "outputs": [],
   "source": [
    "#then I decided to drop duplicates cross checking with the above list \n",
    "df2=pd.read_csv(r'C:\\Users\\Anna\\Desktop\\track_dict.csv',index_col=0)\n",
    "df2= df2.drop_duplicates()\n",
    "print(df2.shape)\n",
    "df2.head()"
   ]
  },
  {
   "cell_type": "code",
   "execution_count": null,
   "metadata": {},
   "outputs": [],
   "source": [
    "df1= pd.merge(df, df2, on='id') #merging the track dictionary into the original dataframe with the audio features"
   ]
  },
  {
   "cell_type": "code",
   "execution_count": null,
   "metadata": {},
   "outputs": [],
   "source": [
    "#dropped entirely useless features that would not be used in analysis\n",
    "df1=df1.drop(['analysis_url','track_href','type','uri'],axis=1)"
   ]
  },
  {
   "cell_type": "code",
   "execution_count": null,
   "metadata": {},
   "outputs": [],
   "source": [
    "df1.dtypes"
   ]
  },
  {
   "cell_type": "code",
   "execution_count": null,
   "metadata": {},
   "outputs": [],
   "source": [
    "df1.to_csv(r'C:\\Users\\Anna\\Desktop\\MSD_finalfirstset.csv',index=False)"
   ]
  },
  {
   "cell_type": "code",
   "execution_count": 2,
   "metadata": {},
   "outputs": [],
   "source": [
    "df= pd.read_csv(r'C:\\Users\\Anna\\Desktop\\MSD_finalfirstset.csv')"
   ]
  },
  {
   "cell_type": "code",
   "execution_count": 3,
   "metadata": {},
   "outputs": [
    {
     "data": {
      "text/html": [
       "<div>\n",
       "<style scoped>\n",
       "    .dataframe tbody tr th:only-of-type {\n",
       "        vertical-align: middle;\n",
       "    }\n",
       "\n",
       "    .dataframe tbody tr th {\n",
       "        vertical-align: top;\n",
       "    }\n",
       "\n",
       "    .dataframe thead th {\n",
       "        text-align: right;\n",
       "    }\n",
       "</style>\n",
       "<table border=\"1\" class=\"dataframe\">\n",
       "  <thead>\n",
       "    <tr style=\"text-align: right;\">\n",
       "      <th></th>\n",
       "      <th>acousticness</th>\n",
       "      <th>danceability</th>\n",
       "      <th>duration_ms</th>\n",
       "      <th>energy</th>\n",
       "      <th>id</th>\n",
       "      <th>instrumentalness</th>\n",
       "      <th>key</th>\n",
       "      <th>liveness</th>\n",
       "      <th>loudness</th>\n",
       "      <th>mode</th>\n",
       "      <th>speechiness</th>\n",
       "      <th>tempo</th>\n",
       "      <th>time_signature</th>\n",
       "      <th>valence</th>\n",
       "      <th>Artist</th>\n",
       "      <th>Name</th>\n",
       "    </tr>\n",
       "  </thead>\n",
       "  <tbody>\n",
       "    <tr>\n",
       "      <th>0</th>\n",
       "      <td>0.063000</td>\n",
       "      <td>0.751</td>\n",
       "      <td>218933</td>\n",
       "      <td>0.549</td>\n",
       "      <td>01TR6aAKrA2cI3Z0gnCOsu</td>\n",
       "      <td>0.000025</td>\n",
       "      <td>6</td>\n",
       "      <td>0.1060</td>\n",
       "      <td>-10.508</td>\n",
       "      <td>0.0</td>\n",
       "      <td>0.4290</td>\n",
       "      <td>92.224</td>\n",
       "      <td>4</td>\n",
       "      <td>0.553</td>\n",
       "      <td>Casual</td>\n",
       "      <td>I Didn't Mean To</td>\n",
       "    </tr>\n",
       "    <tr>\n",
       "      <th>1</th>\n",
       "      <td>0.195000</td>\n",
       "      <td>0.749</td>\n",
       "      <td>147760</td>\n",
       "      <td>0.530</td>\n",
       "      <td>4yPl1mK1oluIrCwI4HInPR</td>\n",
       "      <td>0.000035</td>\n",
       "      <td>9</td>\n",
       "      <td>0.0748</td>\n",
       "      <td>-12.940</td>\n",
       "      <td>1.0</td>\n",
       "      <td>0.0326</td>\n",
       "      <td>121.395</td>\n",
       "      <td>4</td>\n",
       "      <td>0.966</td>\n",
       "      <td>The Box Tops</td>\n",
       "      <td>Soul Deep</td>\n",
       "    </tr>\n",
       "    <tr>\n",
       "      <th>2</th>\n",
       "      <td>0.689000</td>\n",
       "      <td>0.699</td>\n",
       "      <td>183027</td>\n",
       "      <td>0.519</td>\n",
       "      <td>5JeyXbf7CrVQ8DqwFikN0P</td>\n",
       "      <td>0.000471</td>\n",
       "      <td>8</td>\n",
       "      <td>0.9350</td>\n",
       "      <td>-6.422</td>\n",
       "      <td>1.0</td>\n",
       "      <td>0.0290</td>\n",
       "      <td>102.463</td>\n",
       "      <td>4</td>\n",
       "      <td>0.676</td>\n",
       "      <td>La Sonora Santanera</td>\n",
       "      <td>Amor de Cabaret (with Río Roma)</td>\n",
       "    </tr>\n",
       "    <tr>\n",
       "      <th>3</th>\n",
       "      <td>0.197000</td>\n",
       "      <td>0.596</td>\n",
       "      <td>232107</td>\n",
       "      <td>0.934</td>\n",
       "      <td>1BddSZ9x0Vi2WfZOSna47Z</td>\n",
       "      <td>0.007410</td>\n",
       "      <td>0</td>\n",
       "      <td>0.1840</td>\n",
       "      <td>-3.812</td>\n",
       "      <td>1.0</td>\n",
       "      <td>0.0459</td>\n",
       "      <td>120.055</td>\n",
       "      <td>4</td>\n",
       "      <td>0.843</td>\n",
       "      <td>Adam Ant</td>\n",
       "      <td>Something Girls</td>\n",
       "    </tr>\n",
       "    <tr>\n",
       "      <th>4</th>\n",
       "      <td>0.000356</td>\n",
       "      <td>0.525</td>\n",
       "      <td>209600</td>\n",
       "      <td>0.918</td>\n",
       "      <td>4cdbM6efK43Cs2PDMtzdhv</td>\n",
       "      <td>0.566000</td>\n",
       "      <td>2</td>\n",
       "      <td>0.0904</td>\n",
       "      <td>-4.512</td>\n",
       "      <td>1.0</td>\n",
       "      <td>0.0543</td>\n",
       "      <td>129.727</td>\n",
       "      <td>4</td>\n",
       "      <td>0.655</td>\n",
       "      <td>Gob</td>\n",
       "      <td>Face the Ashes</td>\n",
       "    </tr>\n",
       "  </tbody>\n",
       "</table>\n",
       "</div>"
      ],
      "text/plain": [
       "   acousticness  danceability  duration_ms  energy                      id  \\\n",
       "0      0.063000         0.751       218933   0.549  01TR6aAKrA2cI3Z0gnCOsu   \n",
       "1      0.195000         0.749       147760   0.530  4yPl1mK1oluIrCwI4HInPR   \n",
       "2      0.689000         0.699       183027   0.519  5JeyXbf7CrVQ8DqwFikN0P   \n",
       "3      0.197000         0.596       232107   0.934  1BddSZ9x0Vi2WfZOSna47Z   \n",
       "4      0.000356         0.525       209600   0.918  4cdbM6efK43Cs2PDMtzdhv   \n",
       "\n",
       "   instrumentalness  key  liveness  loudness  mode  speechiness    tempo  \\\n",
       "0          0.000025    6    0.1060   -10.508   0.0       0.4290   92.224   \n",
       "1          0.000035    9    0.0748   -12.940   1.0       0.0326  121.395   \n",
       "2          0.000471    8    0.9350    -6.422   1.0       0.0290  102.463   \n",
       "3          0.007410    0    0.1840    -3.812   1.0       0.0459  120.055   \n",
       "4          0.566000    2    0.0904    -4.512   1.0       0.0543  129.727   \n",
       "\n",
       "   time_signature  valence               Artist  \\\n",
       "0               4    0.553               Casual   \n",
       "1               4    0.966         The Box Tops   \n",
       "2               4    0.676  La Sonora Santanera   \n",
       "3               4    0.843             Adam Ant   \n",
       "4               4    0.655                  Gob   \n",
       "\n",
       "                              Name  \n",
       "0                 I Didn't Mean To  \n",
       "1                        Soul Deep  \n",
       "2  Amor de Cabaret (with Río Roma)  \n",
       "3                  Something Girls  \n",
       "4                   Face the Ashes  "
      ]
     },
     "execution_count": 3,
     "metadata": {},
     "output_type": "execute_result"
    }
   ],
   "source": [
    "df.head()"
   ]
  },
  {
   "cell_type": "markdown",
   "metadata": {},
   "source": [
    "I tried to see if I could visually assess what was happening in the dataset. For instance below I tried to plot the average decibel level of each song. However, with a dataset of nearly 14000, I realized quickly that this wouldn't be the best way to do it, and instead used describes. "
   ]
  },
  {
   "cell_type": "code",
   "execution_count": 4,
   "metadata": {},
   "outputs": [
    {
     "data": {
      "text/plain": [
       "<matplotlib.collections.PathCollection at 0x2574152b9e8>"
      ]
     },
     "execution_count": 4,
     "metadata": {},
     "output_type": "execute_result"
    },
    {
     "data": {
      "image/png": "[encoded data removed]",
      "text/plain": [
       "<matplotlib.figure.Figure at 0x25741ac0f60>"
      ]
     },
     "metadata": {},
     "output_type": "display_data"
    }
   ],
   "source": [
    "plt.scatter(df.index,df.loudness)"
   ]
  },
  {
   "cell_type": "code",
   "execution_count": 5,
   "metadata": {},
   "outputs": [
    {
     "data": {
      "text/plain": [
       "count    13908.000000\n",
       "mean        -9.597650\n",
       "std          4.855594\n",
       "min        -51.770000\n",
       "25%        -12.053250\n",
       "50%         -8.602000\n",
       "75%         -6.129500\n",
       "max          3.924000\n",
       "Name: loudness, dtype: float64"
      ]
     },
     "execution_count": 5,
     "metadata": {},
     "output_type": "execute_result"
    }
   ],
   "source": [
    "df.loudness.describe()"
   ]
  },
  {
   "cell_type": "markdown",
   "metadata": {},
   "source": [
    "I wanted to normalize all of the continuous variables in order to make sure inertia when I was doing clustering would have them all in the same degree of magnitude. That necessitated me putting all continuous numeric variables between 0 and 1. "
   ]
  },
  {
   "cell_type": "code",
   "execution_count": 6,
   "metadata": {},
   "outputs": [
    {
     "data": {
      "text/html": [
       "<div>\n",
       "<style scoped>\n",
       "    .dataframe tbody tr th:only-of-type {\n",
       "        vertical-align: middle;\n",
       "    }\n",
       "\n",
       "    .dataframe tbody tr th {\n",
       "        vertical-align: top;\n",
       "    }\n",
       "\n",
       "    .dataframe thead th {\n",
       "        text-align: right;\n",
       "    }\n",
       "</style>\n",
       "<table border=\"1\" class=\"dataframe\">\n",
       "  <thead>\n",
       "    <tr style=\"text-align: right;\">\n",
       "      <th></th>\n",
       "      <th>acousticness</th>\n",
       "      <th>danceability</th>\n",
       "      <th>duration_ms</th>\n",
       "      <th>energy</th>\n",
       "      <th>instrumentalness</th>\n",
       "      <th>key</th>\n",
       "      <th>liveness</th>\n",
       "      <th>loudness</th>\n",
       "      <th>mode</th>\n",
       "      <th>speechiness</th>\n",
       "      <th>tempo</th>\n",
       "      <th>time_signature</th>\n",
       "      <th>valence</th>\n",
       "    </tr>\n",
       "  </thead>\n",
       "  <tbody>\n",
       "    <tr>\n",
       "      <th>count</th>\n",
       "      <td>13908.000000</td>\n",
       "      <td>13908.000000</td>\n",
       "      <td>13908.000000</td>\n",
       "      <td>13908.000000</td>\n",
       "      <td>13908.000000</td>\n",
       "      <td>13908.000000</td>\n",
       "      <td>13908.000000</td>\n",
       "      <td>13908.000000</td>\n",
       "      <td>13908.000000</td>\n",
       "      <td>13908.000000</td>\n",
       "      <td>13908.000000</td>\n",
       "      <td>13908.000000</td>\n",
       "      <td>13908.000000</td>\n",
       "    </tr>\n",
       "    <tr>\n",
       "      <th>mean</th>\n",
       "      <td>0.309816</td>\n",
       "      <td>0.543034</td>\n",
       "      <td>0.082977</td>\n",
       "      <td>0.617690</td>\n",
       "      <td>0.213626</td>\n",
       "      <td>5.298461</td>\n",
       "      <td>0.216449</td>\n",
       "      <td>0.757215</td>\n",
       "      <td>0.682485</td>\n",
       "      <td>0.088722</td>\n",
       "      <td>0.489985</td>\n",
       "      <td>3.887619</td>\n",
       "      <td>0.512493</td>\n",
       "    </tr>\n",
       "    <tr>\n",
       "      <th>std</th>\n",
       "      <td>0.339050</td>\n",
       "      <td>0.182462</td>\n",
       "      <td>0.040489</td>\n",
       "      <td>0.258185</td>\n",
       "      <td>0.339677</td>\n",
       "      <td>3.535764</td>\n",
       "      <td>0.195472</td>\n",
       "      <td>0.087183</td>\n",
       "      <td>0.465526</td>\n",
       "      <td>0.117046</td>\n",
       "      <td>0.121250</td>\n",
       "      <td>0.456282</td>\n",
       "      <td>0.265878</td>\n",
       "    </tr>\n",
       "    <tr>\n",
       "      <th>min</th>\n",
       "      <td>0.000000</td>\n",
       "      <td>0.000000</td>\n",
       "      <td>0.000000</td>\n",
       "      <td>0.000020</td>\n",
       "      <td>0.000000</td>\n",
       "      <td>0.000000</td>\n",
       "      <td>0.000000</td>\n",
       "      <td>0.000000</td>\n",
       "      <td>0.000000</td>\n",
       "      <td>0.000000</td>\n",
       "      <td>0.000000</td>\n",
       "      <td>0.000000</td>\n",
       "      <td>0.000000</td>\n",
       "    </tr>\n",
       "    <tr>\n",
       "      <th>25%</th>\n",
       "      <td>0.009567</td>\n",
       "      <td>0.416000</td>\n",
       "      <td>0.060767</td>\n",
       "      <td>0.426000</td>\n",
       "      <td>0.000002</td>\n",
       "      <td>2.000000</td>\n",
       "      <td>0.095175</td>\n",
       "      <td>0.713124</td>\n",
       "      <td>0.000000</td>\n",
       "      <td>0.035200</td>\n",
       "      <td>0.398124</td>\n",
       "      <td>4.000000</td>\n",
       "      <td>0.299000</td>\n",
       "    </tr>\n",
       "    <tr>\n",
       "      <th>50%</th>\n",
       "      <td>0.148000</td>\n",
       "      <td>0.555000</td>\n",
       "      <td>0.076746</td>\n",
       "      <td>0.652000</td>\n",
       "      <td>0.001160</td>\n",
       "      <td>5.000000</td>\n",
       "      <td>0.133000</td>\n",
       "      <td>0.775092</td>\n",
       "      <td>1.000000</td>\n",
       "      <td>0.048200</td>\n",
       "      <td>0.487824</td>\n",
       "      <td>4.000000</td>\n",
       "      <td>0.516000</td>\n",
       "    </tr>\n",
       "    <tr>\n",
       "      <th>75%</th>\n",
       "      <td>0.609000</td>\n",
       "      <td>0.680000</td>\n",
       "      <td>0.096615</td>\n",
       "      <td>0.842000</td>\n",
       "      <td>0.373000</td>\n",
       "      <td>9.000000</td>\n",
       "      <td>0.280000</td>\n",
       "      <td>0.819487</td>\n",
       "      <td>1.000000</td>\n",
       "      <td>0.084100</td>\n",
       "      <td>0.561290</td>\n",
       "      <td>4.000000</td>\n",
       "      <td>0.734000</td>\n",
       "    </tr>\n",
       "    <tr>\n",
       "      <th>max</th>\n",
       "      <td>0.996000</td>\n",
       "      <td>0.984000</td>\n",
       "      <td>1.000000</td>\n",
       "      <td>1.000000</td>\n",
       "      <td>0.997000</td>\n",
       "      <td>11.000000</td>\n",
       "      <td>0.997000</td>\n",
       "      <td>1.000000</td>\n",
       "      <td>1.000000</td>\n",
       "      <td>0.963000</td>\n",
       "      <td>1.000000</td>\n",
       "      <td>5.000000</td>\n",
       "      <td>1.000000</td>\n",
       "    </tr>\n",
       "  </tbody>\n",
       "</table>\n",
       "</div>"
      ],
      "text/plain": [
       "       acousticness  danceability   duration_ms        energy  \\\n",
       "count  13908.000000  13908.000000  13908.000000  13908.000000   \n",
       "mean       0.309816      0.543034      0.082977      0.617690   \n",
       "std        0.339050      0.182462      0.040489      0.258185   \n",
       "min        0.000000      0.000000      0.000000      0.000020   \n",
       "25%        0.009567      0.416000      0.060767      0.426000   \n",
       "50%        0.148000      0.555000      0.076746      0.652000   \n",
       "75%        0.609000      0.680000      0.096615      0.842000   \n",
       "max        0.996000      0.984000      1.000000      1.000000   \n",
       "\n",
       "       instrumentalness           key      liveness      loudness  \\\n",
       "count      13908.000000  13908.000000  13908.000000  13908.000000   \n",
       "mean           0.213626      5.298461      0.216449      0.757215   \n",
       "std            0.339677      3.535764      0.195472      0.087183   \n",
       "min            0.000000      0.000000      0.000000      0.000000   \n",
       "25%            0.000002      2.000000      0.095175      0.713124   \n",
       "50%            0.001160      5.000000      0.133000      0.775092   \n",
       "75%            0.373000      9.000000      0.280000      0.819487   \n",
       "max            0.997000     11.000000      0.997000      1.000000   \n",
       "\n",
       "               mode   speechiness         tempo  time_signature       valence  \n",
       "count  13908.000000  13908.000000  13908.000000    13908.000000  13908.000000  \n",
       "mean       0.682485      0.088722      0.489985        3.887619      0.512493  \n",
       "std        0.465526      0.117046      0.121250        0.456282      0.265878  \n",
       "min        0.000000      0.000000      0.000000        0.000000      0.000000  \n",
       "25%        0.000000      0.035200      0.398124        4.000000      0.299000  \n",
       "50%        1.000000      0.048200      0.487824        4.000000      0.516000  \n",
       "75%        1.000000      0.084100      0.561290        4.000000      0.734000  \n",
       "max        1.000000      0.963000      1.000000        5.000000      1.000000  "
      ]
     },
     "execution_count": 6,
     "metadata": {},
     "output_type": "execute_result"
    }
   ],
   "source": [
    "#Normalizing all continuous values to be between 0 and 1\n",
    "new_loudness = []\n",
    "maxi = df.loudness.max()\n",
    "mini = df.loudness.min()\n",
    "for row in range(len(df.index)):\n",
    "    new= (df.loudness[row]-mini)/(maxi-mini)\n",
    "    new_loudness.append(new)\n",
    "df['loudness']=new_loudness\n",
    "\n",
    "new_tempo = []\n",
    "maxi = df.tempo.max()\n",
    "mini = df.tempo.min()\n",
    "for row in range(len(df.index)):\n",
    "    new= (df.tempo[row]-mini)/(maxi-mini)\n",
    "    new_tempo.append(new)\n",
    "df['tempo']=new_tempo\n",
    "\n",
    "new_duration = []\n",
    "maxi = df.duration_ms.max()\n",
    "mini = df.duration_ms.min()\n",
    "for row in range(len(df.index)):\n",
    "    new= (df.duration_ms[row]-mini)/(maxi-mini)\n",
    "    new_duration.append(new)\n",
    "df['duration_ms']=new_duration\n",
    "\n",
    "df.describe()"
   ]
  },
  {
   "cell_type": "markdown",
   "metadata": {},
   "source": [
    "I also attempted to see the spread of the dataset features as a whole, which I used histogram for but I realized very quickly that this wasn't the best way to do it. Therefore, I decided to go with boxplots to try to see if anything in the dataset had extremely large outliers based on the boxplot but it seems that in the large dataset, there weren't any vast outliers that would skew the model. "
   ]
  },
  {
   "cell_type": "code",
   "execution_count": 7,
   "metadata": {},
   "outputs": [
    {
     "data": {
      "text/plain": [
       "array([[<matplotlib.axes._subplots.AxesSubplot object at 0x00000257415588D0>,\n",
       "        <matplotlib.axes._subplots.AxesSubplot object at 0x0000025741CEC978>,\n",
       "        <matplotlib.axes._subplots.AxesSubplot object at 0x0000025741D275F8>,\n",
       "        <matplotlib.axes._subplots.AxesSubplot object at 0x0000025741D622E8>],\n",
       "       [<matplotlib.axes._subplots.AxesSubplot object at 0x0000025741D87B70>,\n",
       "        <matplotlib.axes._subplots.AxesSubplot object at 0x0000025741D87BA8>,\n",
       "        <matplotlib.axes._subplots.AxesSubplot object at 0x0000025741F762B0>,\n",
       "        <matplotlib.axes._subplots.AxesSubplot object at 0x0000025741FA3E10>],\n",
       "       [<matplotlib.axes._subplots.AxesSubplot object at 0x0000025741FCD9B0>,\n",
       "        <matplotlib.axes._subplots.AxesSubplot object at 0x000002574200AFD0>,\n",
       "        <matplotlib.axes._subplots.AxesSubplot object at 0x00000257420274E0>,\n",
       "        <matplotlib.axes._subplots.AxesSubplot object at 0x00000257420835C0>],\n",
       "       [<matplotlib.axes._subplots.AxesSubplot object at 0x00000257420C05C0>,\n",
       "        <matplotlib.axes._subplots.AxesSubplot object at 0x00000257420E05C0>,\n",
       "        <matplotlib.axes._subplots.AxesSubplot object at 0x00000257421281D0>,\n",
       "        <matplotlib.axes._subplots.AxesSubplot object at 0x0000025742158DA0>]],\n",
       "      dtype=object)"
      ]
     },
     "execution_count": 7,
     "metadata": {},
     "output_type": "execute_result"
    },
    {
     "data": {
      "image/png": "[encoded data removed]",
      "text/plain": [
       "<matplotlib.figure.Figure at 0x2574152beb8>"
      ]
     },
     "metadata": {},
     "output_type": "display_data"
    }
   ],
   "source": [
    "df.hist()"
   ]
  },
  {
   "cell_type": "code",
   "execution_count": 10,
   "metadata": {},
   "outputs": [
    {
     "data": {
      "image/png": "[encoded data removed]",
      "text/plain": [
       "<matplotlib.figure.Figure at 0x25742541a20>"
      ]
     },
     "metadata": {},
     "output_type": "display_data"
    },
    {
     "data": {
      "image/png": "[encoded data removed]",
      "text/plain": [
       "<matplotlib.figure.Figure at 0x257423b3f60>"
      ]
     },
     "metadata": {},
     "output_type": "display_data"
    },
    {
     "data": {
      "image/png": "[encoded data removed]",
      "text/plain": [
       "<matplotlib.figure.Figure at 0x257425ddb70>"
      ]
     },
     "metadata": {},
     "output_type": "display_data"
    },
    {
     "data": {
      "image/png": "[encoded data removed]",
      "text/plain": [
       "<matplotlib.figure.Figure at 0x25742639cf8>"
      ]
     },
     "metadata": {},
     "output_type": "display_data"
    },
    {
     "data": {
      "image/png": "[encoded data removed]",
      "text/plain": [
       "<matplotlib.figure.Figure at 0x2574262f5c0>"
      ]
     },
     "metadata": {},
     "output_type": "display_data"
    },
    {
     "data": {
      "image/png": "[encoded data removed]",
      "text/plain": [
       "<matplotlib.figure.Figure at 0x257426fdd68>"
      ]
     },
     "metadata": {},
     "output_type": "display_data"
    },
    {
     "data": {
      "image/png": "[encoded data removed]",
      "text/plain": [
       "<matplotlib.figure.Figure at 0x2574275be48>"
      ]
     },
     "metadata": {},
     "output_type": "display_data"
    },
    {
     "data": {
      "image/png": "[encoded data removed]",
      "text/plain": [
       "<matplotlib.figure.Figure at 0x257427bdda0>"
      ]
     },
     "metadata": {},
     "output_type": "display_data"
    }
   ],
   "source": [
    "features = ['acousticness','danceability','energy','instrumentalness','liveness','loudness','speechiness','valence']\n",
    "\n",
    "for each in features:\n",
    "    sns.boxplot(df[each]) #used this to check for outliers, but most of the dataset fell within a reasonable amount of the IQR\n",
    "    plt.show();"
   ]
  },
  {
   "cell_type": "markdown",
   "metadata": {},
   "source": [
    "Speechiness seemed to have the largest issue with not being groupable. However, I believed it was best to leave those as to be able to cluster spoken word pieces together with others rather than only using what is traditionally believed to be songs. Since those high on the speechiness were more likely spoken only pieces, including them was important as to not introduce bias to songs that were traditionally \"music\". "
   ]
  },
  {
   "cell_type": "markdown",
   "metadata": {},
   "source": [
    "# Building a Model "
   ]
  },
  {
   "cell_type": "markdown",
   "metadata": {},
   "source": [
    "The thing I tried to do first was KPrototypes Clustering. This is similar to KMeans except it could take both categorical and numerical data, so it seemed a good fit for my data. "
   ]
  },
  {
   "cell_type": "code",
   "execution_count": null,
   "metadata": {},
   "outputs": [],
   "source": [
    "from kmodes.kprototypes import KPrototypes\n",
    "\n",
    "kproto = KPrototypes(n_clusters=4)\n",
    "kproto.fit(df[['acousticness','danceability','energy','instrumentalness','liveness','speechiness','valence','key','mode','time_signature']],categorical=[7,8,9])\n",
    "df.loc[:,'labels'] = kproto.labels_\n",
    "print(kproto.cluster_centroids_)"
   ]
  },
  {
   "cell_type": "markdown",
   "metadata": {},
   "source": [
    "In addition I attempted to apply the elbow method to find out the optimal number of clusters to use. "
   ]
  },
  {
   "cell_type": "code",
   "execution_count": 12,
   "metadata": {},
   "outputs": [
    {
     "data": {
      "image/png": "[encoded data removed]",
      "text/plain": [
       "<matplotlib.figure.Figure at 0x25743cf79b0>"
      ]
     },
     "metadata": {},
     "output_type": "display_data"
    }
   ],
   "source": [
    "Sum_of_squared_distances = []\n",
    "K = range(1,10)\n",
    "for k in K:\n",
    "    kp = KPrototypes(n_clusters=k)\n",
    "    kp = kp.fit(df[['acousticness','danceability','energy','instrumentalness','liveness','speechiness','valence','key','mode','time_signature']],categorical=[7,8,9])\n",
    "    Sum_of_squared_distances.append(kp.cost_)\n",
    "plt.plot(K, Sum_of_squared_distances, 'bx-')\n",
    "plt.xlabel('k')\n",
    "plt.ylabel('Sum_of_squared_distances')\n",
    "plt.title('Elbow Method For Optimal k')\n",
    "plt.show()"
   ]
  },
  {
   "cell_type": "code",
   "execution_count": 15,
   "metadata": {
    "collapsed": true
   },
   "outputs": [
    {
     "name": "stdout",
     "output_type": "stream",
     "text": [
      "[array([[1.31068562e-01, 4.60854167e-01, 9.28678745e-02, 5.09208474e-01,\n",
      "        4.85602942e-02, 1.47150000e-01, 4.28812500e-02, 2.64772222e-01],\n",
      "       [7.46544118e-01, 5.84397059e-01, 8.81557989e-02, 4.37494853e-01,\n",
      "        7.97345588e-01, 1.46988971e-01, 6.07286765e-02, 5.25230147e-01],\n",
      "       [6.57272727e-01, 5.01103896e-01, 8.86821535e-02, 4.92662338e-01,\n",
      "        2.79341260e-02, 7.55597403e-01, 1.28802597e-01, 4.88971429e-01],\n",
      "       [2.04333528e-02, 4.34004825e-01, 1.00290277e-01, 8.66868421e-01,\n",
      "        7.70469298e-01, 2.16444298e-01, 9.06149123e-02, 2.25968421e-01],\n",
      "       [8.84246981e-02, 6.52590604e-01, 8.33566914e-02, 8.35610738e-01,\n",
      "        3.04775581e-02, 1.66595302e-01, 7.76604027e-02, 7.85872483e-01],\n",
      "       [4.97006312e-02, 3.42545455e-01, 8.10884328e-02, 8.93792208e-01,\n",
      "        5.00139318e-02, 6.73389610e-01, 1.47288312e-01, 2.42909091e-01],\n",
      "       [4.40511846e-02, 4.17047244e-01, 7.80192530e-02, 8.29350394e-01,\n",
      "        2.94951191e-02, 2.33389370e-01, 9.26874016e-02, 4.20783071e-01],\n",
      "       [8.72820859e-02, 6.76995098e-01, 1.01389905e-01, 7.46009804e-01,\n",
      "        7.44147059e-01, 1.58850490e-01, 7.09318627e-02, 7.55313725e-01],\n",
      "       [4.18679172e-02, 2.99754696e-01, 1.03828906e-01, 7.67165746e-01,\n",
      "        7.36419890e-01, 2.34317680e-01, 7.70530387e-02, 2.09074033e-01],\n",
      "       [8.16369565e-01, 2.10891304e-01, 5.53408529e-02, 2.97148826e-01,\n",
      "        1.75373489e-02, 1.65284783e-01, 3.12500000e-02, 1.62000000e-01],\n",
      "       [8.56000000e-01, 6.55314286e-01, 5.61827176e-02, 3.00743429e-01,\n",
      "        2.96995171e-02, 1.60868571e-01, 1.13659429e-01, 7.72017143e-01],\n",
      "       [5.92436364e-01, 4.99775758e-01, 8.82561125e-02, 4.54855758e-01,\n",
      "        2.70141327e-02, 1.46069091e-01, 5.53557576e-02, 2.84401818e-01],\n",
      "       [8.91955307e-01, 3.69948603e-01, 7.49706439e-02, 1.93061285e-01,\n",
      "        4.91846002e-02, 1.77387709e-01, 4.67134078e-02, 2.17934637e-01],\n",
      "       [1.12722383e-01, 6.27467153e-01, 8.07563336e-02, 7.71569343e-01,\n",
      "        3.86588458e-02, 1.64178832e-01, 1.04941606e-01, 6.51116788e-01],\n",
      "       [8.35803419e-01, 4.07547009e-01, 7.70511159e-02, 2.42636239e-01,\n",
      "        3.73203371e-02, 1.43413675e-01, 4.06658120e-02, 2.38570513e-01],\n",
      "       [5.63260163e-01, 6.20073171e-01, 7.86046917e-02, 6.61162602e-01,\n",
      "        7.88252033e-01, 1.61558537e-01, 6.34650407e-02, 7.78105691e-01],\n",
      "       [7.53312883e-01, 6.18564417e-01, 6.04050791e-02, 5.81662577e-01,\n",
      "        3.09394913e-02, 2.03179141e-01, 8.16883436e-02, 8.63355828e-01],\n",
      "       [8.77518987e-01, 5.76424051e-01, 6.25470729e-02, 3.73964557e-01,\n",
      "        8.21417722e-01, 1.68713291e-01, 6.88613924e-02, 7.33436709e-01],\n",
      "       [2.97613069e-02, 3.58848485e-01, 7.93525841e-02, 8.71550505e-01,\n",
      "        6.21754012e-02, 1.99985859e-01, 8.46373737e-02, 3.90277273e-01],\n",
      "       [1.52750161e-02, 3.33691892e-01, 8.30986613e-02, 9.28518919e-01,\n",
      "        5.73648592e-02, 1.73728108e-01, 1.23226486e-01, 2.54987027e-01],\n",
      "       [4.41161024e-02, 4.55025641e-01, 9.54157370e-02, 7.76000000e-01,\n",
      "        4.01494938e-02, 1.83203419e-01, 5.87581197e-02, 2.49686325e-01],\n",
      "       [4.17503310e-01, 4.54577465e-01, 8.97188923e-02, 3.87678873e-01,\n",
      "        3.29982488e-02, 1.84702817e-01, 4.45218310e-02, 2.73499296e-01],\n",
      "       [1.49049801e-01, 6.81206452e-01, 7.66259196e-02, 7.39832258e-01,\n",
      "        2.78642703e-02, 1.58911613e-01, 1.15154194e-01, 7.67458065e-01],\n",
      "       [9.20052980e-01, 4.49650331e-01, 7.98891142e-02, 1.62064570e-01,\n",
      "        8.40549669e-01, 1.30911258e-01, 5.13205298e-02, 2.51029139e-01],\n",
      "       [2.34836684e-01, 5.46761111e-01, 7.83360751e-02, 7.62216667e-01,\n",
      "        1.93054827e-02, 7.65727778e-01, 1.05647222e-01, 6.97650000e-01],\n",
      "       [1.97650808e-01, 6.97146617e-01, 7.80606498e-02, 5.41447368e-01,\n",
      "        2.31729121e-02, 1.45434962e-01, 1.02637218e-01, 6.21338346e-01],\n",
      "       [1.11316048e-01, 7.52400000e-01, 8.69452058e-02, 4.67733333e-01,\n",
      "        3.89135875e-02, 1.51611429e-01, 1.49511429e-01, 6.41428571e-01],\n",
      "       [7.22371951e-01, 4.86658537e-01, 6.90989532e-02, 3.94764024e-01,\n",
      "        1.26856754e-02, 1.76064024e-01, 5.54914634e-02, 5.57469512e-01],\n",
      "       [8.55182320e-01, 3.29744199e-01, 8.74324921e-02, 1.69806072e-01,\n",
      "        8.49674033e-01, 1.24362983e-01, 5.02325967e-02, 1.32043646e-01],\n",
      "       [8.12950617e-01, 5.41567901e-01, 6.87823991e-02, 6.59543210e-01,\n",
      "        1.06742099e-04, 7.68111111e-01, 8.43987654e-01, 4.59498765e-01],\n",
      "       [1.81398430e-01, 6.40350877e-01, 7.52768387e-02, 6.99719298e-01,\n",
      "        8.89073649e-03, 1.56861404e-01, 7.69798246e-02, 7.53587719e-01],\n",
      "       [9.37139441e-02, 7.01706250e-01, 9.31053830e-02, 4.65397812e-01,\n",
      "        7.58537500e-01, 1.29816875e-01, 7.93893750e-02, 6.29856250e-01],\n",
      "       [6.73083871e-01, 6.72638710e-01, 7.31015872e-02, 5.75174194e-01,\n",
      "        3.64890685e-02, 1.61932903e-01, 1.07098710e-01, 7.90896774e-01],\n",
      "       [5.93699733e-02, 3.90775148e-01, 8.95402741e-02, 8.45088757e-01,\n",
      "        6.08631272e-02, 8.05485207e-01, 1.07564497e-01, 3.43499408e-01],\n",
      "       [7.58323651e-01, 5.03174274e-01, 7.64983314e-02, 3.11998340e-01,\n",
      "        2.59943737e-02, 1.55956432e-01, 4.48481328e-02, 3.93178423e-01],\n",
      "       [4.79436787e-02, 6.25444954e-01, 9.26031516e-02, 8.39307339e-01,\n",
      "        7.90275229e-01, 1.70475688e-01, 6.10165138e-02, 8.02559633e-01],\n",
      "       [4.48048238e-02, 4.81573585e-01, 7.14186453e-02, 8.66550943e-01,\n",
      "        1.79979689e-02, 2.07475849e-01, 7.32947170e-02, 6.44716981e-01],\n",
      "       [1.33766447e-01, 5.90898305e-01, 8.56968266e-02, 7.73711864e-01,\n",
      "        2.71543395e-02, 7.72372881e-01, 1.51408475e-01, 6.54474576e-01],\n",
      "       [4.00367026e-02, 4.21655172e-01, 8.00006977e-02, 8.25457680e-01,\n",
      "        3.96621823e-02, 1.61125705e-01, 7.68260188e-02, 3.98290909e-01],\n",
      "       [8.20303571e-01, 5.70529762e-01, 7.34802984e-02, 3.26385060e-01,\n",
      "        4.20770911e-02, 1.73057143e-01, 6.62101190e-02, 5.30446429e-01],\n",
      "       [3.36529126e-02, 4.93894231e-01, 7.94739231e-02, 8.51254808e-01,\n",
      "        3.69768273e-02, 2.20373077e-01, 9.04884615e-02, 4.86937500e-01],\n",
      "       [7.29446809e-01, 3.70497872e-01, 1.13824821e-01, 4.21459574e-01,\n",
      "        8.27723404e-01, 7.15744681e-01, 6.31744681e-02, 2.73791489e-01],\n",
      "       [3.25225250e-01, 5.14572222e-01, 9.02364786e-02, 4.39416667e-01,\n",
      "        2.62757380e-02, 1.50063333e-01, 4.35600000e-02, 2.60743333e-01],\n",
      "       [1.33314393e-01, 7.50476923e-01, 8.03106205e-02, 6.62666667e-01,\n",
      "        1.92090209e-02, 1.46487179e-01, 1.18521538e-01, 8.15287179e-01],\n",
      "       [3.72284506e-02, 7.06495833e-01, 1.19939267e-01, 7.12758333e-01,\n",
      "        8.32287500e-01, 1.35924167e-01, 7.96316667e-02, 3.11825000e-01],\n",
      "       [1.02452626e-01, 6.56789474e-01, 8.22164678e-02, 7.32021053e-01,\n",
      "        4.61911565e-02, 2.06863158e-01, 1.19024211e-01, 6.72431579e-01],\n",
      "       [5.87313609e-01, 5.96976331e-01, 6.88530754e-02, 7.20615385e-01,\n",
      "        2.03443843e-02, 2.42485207e-01, 8.10763314e-02, 7.55739645e-01],\n",
      "       [9.39721803e-02, 6.30893333e-01, 7.62825214e-02, 8.12606667e-01,\n",
      "        3.67579547e-02, 1.74040333e-01, 8.10193333e-02, 8.13293333e-01],\n",
      "       [6.17952657e-02, 3.89442308e-01, 8.52868630e-02, 6.70519231e-01,\n",
      "        4.45845008e-02, 1.75271154e-01, 5.66269231e-02, 3.66117308e-01],\n",
      "       [2.18678169e-02, 3.70059916e-01, 8.63506914e-02, 8.56569620e-01,\n",
      "        8.10115443e-02, 2.10827848e-01, 9.28345992e-02, 2.31466245e-01],\n",
      "       [6.59452800e-01, 6.69133333e-01, 4.66634622e-02, 2.94737333e-01,\n",
      "        2.87712000e-04, 2.66224000e-01, 8.35226667e-01, 5.62629333e-01],\n",
      "       [1.06408110e-01, 6.07934866e-01, 8.28201903e-02, 7.47681992e-01,\n",
      "        2.83312674e-02, 1.64465134e-01, 7.79862069e-02, 6.43164751e-01],\n",
      "       [8.66410042e-01, 5.78192469e-01, 6.40401247e-02, 2.38586612e-01,\n",
      "        2.48980267e-02, 1.46421339e-01, 5.91393305e-02, 4.93556485e-01],\n",
      "       [4.14375069e-02, 2.59270833e-01, 8.34942873e-02, 8.04472222e-01,\n",
      "        7.84902778e-01, 2.30931944e-01, 9.52611111e-02, 2.00341667e-01],\n",
      "       [2.95161862e-02, 4.40055026e-01, 8.87889682e-02, 8.30613757e-01,\n",
      "        7.43851852e-01, 1.84443386e-01, 6.78174603e-02, 4.93207937e-01],\n",
      "       [1.93118858e-01, 6.20435331e-01, 7.62703560e-02, 6.92996845e-01,\n",
      "        2.11244047e-02, 1.75127129e-01, 7.72063091e-02, 7.77984227e-01],\n",
      "       [9.31311692e-02, 5.66750000e-01, 7.33911953e-02, 7.49629808e-01,\n",
      "        1.79376167e-02, 1.65475481e-01, 6.27754808e-02, 6.87283654e-01],\n",
      "       [5.74229008e-01, 4.51961832e-01, 1.03567951e-01, 4.04218321e-01,\n",
      "        7.95725191e-01, 1.46112214e-01, 5.23664122e-02, 2.27229771e-01],\n",
      "       [3.09253653e-02, 4.58653846e-01, 7.89354683e-02, 8.89282051e-01,\n",
      "        3.68005497e-02, 2.54559615e-01, 9.43897436e-02, 3.96533333e-01],\n",
      "       [9.85910407e-02, 6.09729927e-01, 8.51796471e-02, 7.19313869e-01,\n",
      "        4.66446391e-02, 1.64464234e-01, 1.29829927e-01, 4.57109489e-01],\n",
      "       [2.73910678e-01, 6.33942149e-01, 8.02006913e-02, 6.83504132e-01,\n",
      "        3.03461256e-02, 1.72685950e-01, 8.78834711e-02, 7.47611570e-01],\n",
      "       [1.71817247e-01, 4.15839024e-01, 1.04984717e-01, 4.47761021e-01,\n",
      "        6.31890980e-02, 2.01582927e-01, 4.60284553e-02, 1.92239024e-01],\n",
      "       [6.49777174e-01, 5.71793478e-01, 7.85379903e-02, 3.93773370e-01,\n",
      "        3.38160153e-02, 1.48439130e-01, 4.45744565e-02, 3.74638043e-01],\n",
      "       [1.22073830e-01, 6.37476471e-01, 8.05283180e-02, 7.41182353e-01,\n",
      "        2.80663387e-02, 1.73545294e-01, 1.12034706e-01, 6.93670588e-01],\n",
      "       [3.63771806e-02, 6.11000000e-01, 1.17780808e-01, 8.46431579e-01,\n",
      "        8.15778947e-01, 1.72418421e-01, 6.86894737e-02, 2.79963158e-01],\n",
      "       [8.74980583e-01, 3.16595146e-01, 7.87593174e-02, 1.61485718e-01,\n",
      "        9.32608681e-02, 1.56052427e-01, 4.38922330e-02, 1.36966990e-01],\n",
      "       [1.67272222e-01, 6.03995392e-01, 7.91218587e-02, 7.07497696e-01,\n",
      "        2.51342234e-02, 1.75575576e-01, 6.51658986e-02, 7.02529954e-01],\n",
      "       [8.74284091e-01, 2.46034091e-01, 8.35424889e-02, 1.69894432e-01,\n",
      "        8.54482955e-01, 1.42598864e-01, 4.47721591e-02, 9.45630682e-02],\n",
      "       [1.28029369e-01, 7.09284519e-01, 7.56398708e-02, 6.36071130e-01,\n",
      "        3.14728949e-02, 1.45594979e-01, 9.11958159e-02, 7.69619247e-01],\n",
      "       [7.23077322e-02, 5.32723881e-01, 1.06920741e-01, 8.30119403e-01,\n",
      "        7.64044776e-01, 7.26059701e-01, 7.71970149e-02, 4.98647015e-01],\n",
      "       [9.77499302e-02, 6.66994460e-01, 8.12251450e-02, 7.46783934e-01,\n",
      "        2.99301310e-02, 1.76799169e-01, 1.49478670e-01, 6.63310249e-01],\n",
      "       [7.08292994e-01, 4.46987261e-01, 9.12354569e-02, 3.92514650e-01,\n",
      "        2.87441141e-02, 7.81573248e-01, 7.26012739e-02, 3.92671975e-01],\n",
      "       [7.44871626e-02, 7.05453608e-01, 1.21954295e-01, 6.13329897e-01,\n",
      "        8.07108247e-01, 1.42824742e-01, 8.10139175e-02, 4.30851031e-01],\n",
      "       [7.90816038e-01, 5.21113208e-01, 7.65616028e-02, 2.78850943e-01,\n",
      "        2.87569067e-02, 1.56610849e-01, 4.18433962e-02, 3.16677830e-01],\n",
      "       [9.89012080e-02, 6.56656250e-01, 7.68678171e-02, 7.42312500e-01,\n",
      "        1.82138180e-02, 1.85627083e-01, 7.03527778e-02, 7.88986111e-01],\n",
      "       [1.46527526e-01, 3.50235374e-01, 9.93917997e-02, 3.92903859e-01,\n",
      "        8.13816327e-01, 1.67492517e-01, 5.36931973e-02, 1.72781701e-01],\n",
      "       [1.79013040e-01, 6.28427907e-01, 8.99369859e-02, 4.92186047e-01,\n",
      "        2.63183828e-02, 1.64085581e-01, 6.56283721e-02, 4.00232093e-01],\n",
      "       [5.92222656e-01, 6.71167969e-01, 6.92736063e-02, 5.34535156e-01,\n",
      "        1.31980584e-02, 1.57326172e-01, 6.83183594e-02, 8.15351562e-01],\n",
      "       [1.37015960e-01, 7.25843972e-01, 7.87884858e-02, 7.59156028e-01,\n",
      "        2.49117868e-02, 1.82344681e-01, 1.87814184e-01, 7.99978723e-01],\n",
      "       [7.94210526e-01, 3.35842105e-01, 6.89367981e-02, 8.35131579e-01,\n",
      "        8.18421053e-01, 2.55634211e-01, 1.29136842e-01, 1.08594737e-01]]), array([[ 4.,  0.,  4.],\n",
      "       [ 9.,  0.,  4.],\n",
      "       [ 4.,  0.,  4.],\n",
      "       [ 7.,  1.,  4.],\n",
      "       [ 5.,  0.,  4.],\n",
      "       [ 5.,  0.,  4.],\n",
      "       [ 7.,  1.,  4.],\n",
      "       [11.,  0.,  4.],\n",
      "       [ 9.,  0.,  4.],\n",
      "       [ 5.,  1.,  5.],\n",
      "       [ 1.,  1.,  4.],\n",
      "       [11.,  0.,  4.],\n",
      "       [ 4.,  1.,  3.],\n",
      "       [ 1.,  0.,  4.],\n",
      "       [ 9.,  1.,  4.],\n",
      "       [ 8.,  1.,  4.],\n",
      "       [ 4.,  1.,  4.],\n",
      "       [ 0.,  1.,  4.],\n",
      "       [ 0.,  1.,  4.],\n",
      "       [ 4.,  0.,  4.],\n",
      "       [ 2.,  0.,  4.],\n",
      "       [ 2.,  1.,  3.],\n",
      "       [ 8.,  1.,  4.],\n",
      "       [ 5.,  1.,  4.],\n",
      "       [ 0.,  1.,  4.],\n",
      "       [ 7.,  1.,  4.],\n",
      "       [ 5.,  0.,  4.],\n",
      "       [ 5.,  1.,  3.],\n",
      "       [ 4.,  0.,  4.],\n",
      "       [ 1.,  1.,  4.],\n",
      "       [10.,  1.,  4.],\n",
      "       [ 0.,  1.,  4.],\n",
      "       [ 5.,  0.,  4.],\n",
      "       [ 9.,  1.,  4.],\n",
      "       [ 7.,  1.,  4.],\n",
      "       [ 0.,  1.,  4.],\n",
      "       [ 2.,  1.,  4.],\n",
      "       [11.,  0.,  4.],\n",
      "       [ 9.,  1.,  4.],\n",
      "       [ 4.,  0.,  4.],\n",
      "       [11.,  0.,  4.],\n",
      "       [ 5.,  0.,  4.],\n",
      "       [ 2.,  1.,  4.],\n",
      "       [11.,  0.,  4.],\n",
      "       [ 1.,  1.,  4.],\n",
      "       [ 8.,  0.,  4.],\n",
      "       [ 2.,  1.,  4.],\n",
      "       [ 7.,  1.,  4.],\n",
      "       [ 5.,  1.,  3.],\n",
      "       [ 2.,  1.,  4.],\n",
      "       [ 5.,  1.,  4.],\n",
      "       [ 9.,  0.,  4.],\n",
      "       [ 2.,  1.,  4.],\n",
      "       [ 4.,  1.,  3.],\n",
      "       [ 2.,  1.,  4.],\n",
      "       [ 9.,  1.,  4.],\n",
      "       [ 4.,  1.,  4.],\n",
      "       [ 2.,  1.,  4.],\n",
      "       [ 8.,  1.,  4.],\n",
      "       [10.,  0.,  4.],\n",
      "       [ 2.,  0.,  4.],\n",
      "       [ 8.,  1.,  4.],\n",
      "       [ 4.,  1.,  4.],\n",
      "       [ 4.,  0.,  4.],\n",
      "       [ 6.,  0.,  4.],\n",
      "       [ 4.,  0.,  4.],\n",
      "       [ 5.,  1.,  4.],\n",
      "       [ 0.,  1.,  4.],\n",
      "       [ 2.,  1.,  4.],\n",
      "       [ 0.,  1.,  4.],\n",
      "       [ 1.,  1.,  4.],\n",
      "       [ 7.,  1.,  4.],\n",
      "       [10.,  0.,  4.],\n",
      "       [ 0.,  1.,  4.],\n",
      "       [ 0.,  1.,  4.],\n",
      "       [ 0.,  1.,  4.],\n",
      "       [ 0.,  1.,  4.],\n",
      "       [ 0.,  1.,  4.],\n",
      "       [10.,  0.,  4.],\n",
      "       [ 1.,  1.,  4.]])]\n",
      "Elapsed time was 528.093 seconds\n"
     ]
    }
   ],
   "source": [
    "start_time = time.time()\n",
    "kproto = KPrototypes(n_clusters=80,init='random')\n",
    "kproto.fit(df[['acousticness','danceability','duration_ms','energy','instrumentalness','liveness','speechiness','valence','key','mode','time_signature']],categorical=[8,9,10])\n",
    "df.loc[:,'labels'] = kproto.labels_"
   ]
  },
  {
   "cell_type": "markdown",
   "metadata": {},
   "source": [
    "Then I realized I needed to take a step back and think about it from the big picture perspective rather than the data science perspective. The clusters would be of songs, and would naturally form themselves into groups. The cluster size should have been close to how large I wanted each recommendation set to be, rather than the optimal based on smallest distance.\n",
    "\n",
    "There however was a hiccup to this plan when my own hardware became a limiting factor and I was forced to limit the clustering based on the largest one my computer would handle. However, these clusters were still too large, and my first idea was to cluster them twice in KPrototypes leaving smaller clusters I could manage. "
   ]
  },
  {
   "cell_type": "code",
   "execution_count": 14,
   "metadata": {},
   "outputs": [
    {
     "data": {
      "text/html": [
       "<div>\n",
       "<style scoped>\n",
       "    .dataframe tbody tr th:only-of-type {\n",
       "        vertical-align: middle;\n",
       "    }\n",
       "\n",
       "    .dataframe tbody tr th {\n",
       "        vertical-align: top;\n",
       "    }\n",
       "\n",
       "    .dataframe thead th {\n",
       "        text-align: right;\n",
       "    }\n",
       "</style>\n",
       "<table border=\"1\" class=\"dataframe\">\n",
       "  <thead>\n",
       "    <tr style=\"text-align: right;\">\n",
       "      <th></th>\n",
       "      <th>acousticness</th>\n",
       "      <th>danceability</th>\n",
       "      <th>duration_ms</th>\n",
       "      <th>energy</th>\n",
       "      <th>id</th>\n",
       "      <th>instrumentalness</th>\n",
       "      <th>key</th>\n",
       "      <th>liveness</th>\n",
       "      <th>loudness</th>\n",
       "      <th>mode</th>\n",
       "      <th>speechiness</th>\n",
       "      <th>tempo</th>\n",
       "      <th>time_signature</th>\n",
       "      <th>valence</th>\n",
       "      <th>Artist</th>\n",
       "      <th>Name</th>\n",
       "      <th>labels</th>\n",
       "    </tr>\n",
       "  </thead>\n",
       "  <tbody>\n",
       "    <tr>\n",
       "      <th>0</th>\n",
       "      <td>0.063000</td>\n",
       "      <td>0.751</td>\n",
       "      <td>0.073943</td>\n",
       "      <td>0.549</td>\n",
       "      <td>01TR6aAKrA2cI3Z0gnCOsu</td>\n",
       "      <td>0.000025</td>\n",
       "      <td>6</td>\n",
       "      <td>0.1060</td>\n",
       "      <td>0.740870</td>\n",
       "      <td>0.0</td>\n",
       "      <td>0.4290</td>\n",
       "      <td>0.374984</td>\n",
       "      <td>4</td>\n",
       "      <td>0.553</td>\n",
       "      <td>Casual</td>\n",
       "      <td>I Didn't Mean To</td>\n",
       "      <td>56</td>\n",
       "    </tr>\n",
       "    <tr>\n",
       "      <th>1</th>\n",
       "      <td>0.195000</td>\n",
       "      <td>0.749</td>\n",
       "      <td>0.049420</td>\n",
       "      <td>0.530</td>\n",
       "      <td>4yPl1mK1oluIrCwI4HInPR</td>\n",
       "      <td>0.000035</td>\n",
       "      <td>9</td>\n",
       "      <td>0.0748</td>\n",
       "      <td>0.697203</td>\n",
       "      <td>1.0</td>\n",
       "      <td>0.0326</td>\n",
       "      <td>0.493594</td>\n",
       "      <td>4</td>\n",
       "      <td>0.966</td>\n",
       "      <td>The Box Tops</td>\n",
       "      <td>Soul Deep</td>\n",
       "      <td>72</td>\n",
       "    </tr>\n",
       "    <tr>\n",
       "      <th>2</th>\n",
       "      <td>0.689000</td>\n",
       "      <td>0.699</td>\n",
       "      <td>0.061571</td>\n",
       "      <td>0.519</td>\n",
       "      <td>5JeyXbf7CrVQ8DqwFikN0P</td>\n",
       "      <td>0.000471</td>\n",
       "      <td>8</td>\n",
       "      <td>0.9350</td>\n",
       "      <td>0.814235</td>\n",
       "      <td>1.0</td>\n",
       "      <td>0.0290</td>\n",
       "      <td>0.416616</td>\n",
       "      <td>4</td>\n",
       "      <td>0.676</td>\n",
       "      <td>La Sonora Santanera</td>\n",
       "      <td>Amor de Cabaret (with Río Roma)</td>\n",
       "      <td>76</td>\n",
       "    </tr>\n",
       "    <tr>\n",
       "      <th>3</th>\n",
       "      <td>0.197000</td>\n",
       "      <td>0.596</td>\n",
       "      <td>0.078482</td>\n",
       "      <td>0.934</td>\n",
       "      <td>1BddSZ9x0Vi2WfZOSna47Z</td>\n",
       "      <td>0.007410</td>\n",
       "      <td>0</td>\n",
       "      <td>0.1840</td>\n",
       "      <td>0.861098</td>\n",
       "      <td>1.0</td>\n",
       "      <td>0.0459</td>\n",
       "      <td>0.488146</td>\n",
       "      <td>4</td>\n",
       "      <td>0.843</td>\n",
       "      <td>Adam Ant</td>\n",
       "      <td>Something Girls</td>\n",
       "      <td>61</td>\n",
       "    </tr>\n",
       "    <tr>\n",
       "      <th>4</th>\n",
       "      <td>0.000356</td>\n",
       "      <td>0.525</td>\n",
       "      <td>0.070727</td>\n",
       "      <td>0.918</td>\n",
       "      <td>4cdbM6efK43Cs2PDMtzdhv</td>\n",
       "      <td>0.566000</td>\n",
       "      <td>2</td>\n",
       "      <td>0.0904</td>\n",
       "      <td>0.848529</td>\n",
       "      <td>1.0</td>\n",
       "      <td>0.0543</td>\n",
       "      <td>0.527472</td>\n",
       "      <td>4</td>\n",
       "      <td>0.655</td>\n",
       "      <td>Gob</td>\n",
       "      <td>Face the Ashes</td>\n",
       "      <td>14</td>\n",
       "    </tr>\n",
       "  </tbody>\n",
       "</table>\n",
       "</div>"
      ],
      "text/plain": [
       "   acousticness  danceability  duration_ms  energy                      id  \\\n",
       "0      0.063000         0.751     0.073943   0.549  01TR6aAKrA2cI3Z0gnCOsu   \n",
       "1      0.195000         0.749     0.049420   0.530  4yPl1mK1oluIrCwI4HInPR   \n",
       "2      0.689000         0.699     0.061571   0.519  5JeyXbf7CrVQ8DqwFikN0P   \n",
       "3      0.197000         0.596     0.078482   0.934  1BddSZ9x0Vi2WfZOSna47Z   \n",
       "4      0.000356         0.525     0.070727   0.918  4cdbM6efK43Cs2PDMtzdhv   \n",
       "\n",
       "   instrumentalness  key  liveness  loudness  mode  speechiness     tempo  \\\n",
       "0          0.000025    6    0.1060  0.740870   0.0       0.4290  0.374984   \n",
       "1          0.000035    9    0.0748  0.697203   1.0       0.0326  0.493594   \n",
       "2          0.000471    8    0.9350  0.814235   1.0       0.0290  0.416616   \n",
       "3          0.007410    0    0.1840  0.861098   1.0       0.0459  0.488146   \n",
       "4          0.566000    2    0.0904  0.848529   1.0       0.0543  0.527472   \n",
       "\n",
       "   time_signature  valence               Artist  \\\n",
       "0               4    0.553               Casual   \n",
       "1               4    0.966         The Box Tops   \n",
       "2               4    0.676  La Sonora Santanera   \n",
       "3               4    0.843             Adam Ant   \n",
       "4               4    0.655                  Gob   \n",
       "\n",
       "                              Name  labels  \n",
       "0                 I Didn't Mean To      56  \n",
       "1                        Soul Deep      72  \n",
       "2  Amor de Cabaret (with Río Roma)      76  \n",
       "3                  Something Girls      61  \n",
       "4                   Face the Ashes      14  "
      ]
     },
     "execution_count": 14,
     "metadata": {},
     "output_type": "execute_result"
    }
   ],
   "source": [
    "df=pd.read_csv(r'C:\\Users\\Anna\\Desktop\\MSD_sorted.csv')\n",
    "df.head()"
   ]
  },
  {
   "cell_type": "code",
   "execution_count": 17,
   "metadata": {},
   "outputs": [
    {
     "name": "stdout",
     "output_type": "stream",
     "text": [
      "Counter({70: 361, 38: 319, 55: 317, 47: 300, 74: 288, 25: 266, 36: 265, 51: 261, 77: 256, 6: 254, 34: 241, 44: 240, 68: 239, 52: 239, 49: 237, 14: 234, 3: 228, 35: 218, 66: 217, 76: 215, 73: 212, 40: 208, 56: 208, 7: 204, 18: 198, 43: 195, 72: 194, 64: 190, 54: 189, 19: 185, 62: 184, 8: 181, 28: 181, 24: 180, 42: 180, 12: 179, 67: 176, 10: 175, 63: 170, 33: 169, 46: 169, 39: 168, 11: 165, 27: 164, 16: 163, 31: 160, 17: 158, 71: 157, 58: 156, 22: 155, 32: 155, 23: 151, 4: 149, 75: 147, 0: 144, 21: 142, 78: 141, 13: 137, 59: 137, 1: 136, 69: 134, 57: 131, 61: 123, 15: 123, 60: 121, 37: 118, 20: 117, 30: 114, 26: 105, 48: 104, 65: 103, 45: 95, 29: 81, 5: 77, 2: 77, 50: 75, 53: 72, 41: 47, 9: 46, 79: 38})\n"
     ]
    }
   ],
   "source": [
    "from collections import Counter, defaultdict\n",
    "print(Counter(kproto.labels_)) # This was the clusters of Kprototypes and the sizes of each cluster. The majority were very large."
   ]
  },
  {
   "cell_type": "code",
   "execution_count": 18,
   "metadata": {},
   "outputs": [
    {
     "name": "stdout",
     "output_type": "stream",
     "text": [
      "[9, 99, 116, 390, 554, 570, 910, 914, 952, 1021, 1159, 1181, 1213, 1349, 1381, 1416, 1473, 1625, 1673, 1963, 2339, 2449, 2542, 2651, 2739, 2776, 2778, 2836, 2838, 2943, 3202, 3385, 3429, 3459, 3641, 3658, 3673, 4023, 4045, 4067, 4077, 4221, 4297, 4386, 4470, 4553, 4802, 5002, 5177, 5190, 5193, 5314, 5361, 5584, 5828, 5852, 5905, 5913, 5988, 6057, 6152, 6384, 6463, 6476, 6575, 6741, 6789, 6819, 6841, 6847, 6855, 7013, 7035, 7183, 7246, 7252, 7489, 7785, 7795, 7911, 7919, 7928, 7983, 8037, 8209, 8297, 8543, 8549, 8678, 8684, 8688, 8807, 8812, 8928, 8963, 9002, 9121, 9177, 9263, 9281, 9704, 9754, 10103, 10180, 10234, 10313, 10544, 10579, 10750, 10908, 10913, 10936, 11111, 11168, 11258, 11415, 11430, 11507, 11508, 11584, 11763, 11825, 11832, 11918, 11931, 11937, 12258, 12278, 12449, 12481, 12590, 12691, 12846, 12852, 13116, 13137, 13144, 13526, 13570, 13606, 13645, 13683, 13782, 13904]\n"
     ]
    }
   ],
   "source": [
    "clusters_indices = defaultdict(list)\n",
    "for index, c  in enumerate(kproto.labels_):\n",
    "    clusters_indices[c].append(index) #Here I grabbed the indexs of what was in each cluster, and grouped them together to allow for second clustering\n",
    "print(clusters_indices[0])"
   ]
  },
  {
   "cell_type": "code",
   "execution_count": 19,
   "metadata": {
    "collapsed": true
   },
   "outputs": [
    {
     "name": "stderr",
     "output_type": "stream",
     "text": [
      "ERROR:root:Internal Python error in the inspect module.\n",
      "Below is the traceback from this internal error.\n",
      "\n"
     ]
    },
    {
     "name": "stdout",
     "output_type": "stream",
     "text": [
      "Traceback (most recent call last):\n",
      "  File \"C:\\Users\\Anna\\Anaconda3\\lib\\site-packages\\IPython\\core\\interactiveshell.py\", line 2910, in run_code\n",
      "    exec(code_obj, self.user_global_ns, self.user_ns)\n",
      "  File \"<ipython-input-19-e64a58798b6d>\", line 3, in <module>\n",
      "    kproto.fit(df2[['acousticness','danceability','duration_ms','energy','instrumentalness','liveness','speechiness','valence','key','mode','time_signature']],categorical=[8,9,10])\n",
      "NameError: name 'df2' is not defined\n",
      "\n",
      "During handling of the above exception, another exception occurred:\n",
      "\n",
      "Traceback (most recent call last):\n",
      "  File \"C:\\Users\\Anna\\Anaconda3\\lib\\site-packages\\IPython\\core\\interactiveshell.py\", line 1828, in showtraceback\n",
      "    stb = value._render_traceback_()\n",
      "AttributeError: 'NameError' object has no attribute '_render_traceback_'\n",
      "\n",
      "During handling of the above exception, another exception occurred:\n",
      "\n",
      "Traceback (most recent call last):\n",
      "  File \"C:\\Users\\Anna\\Anaconda3\\lib\\site-packages\\IPython\\core\\ultratb.py\", line 1090, in get_records\n",
      "    return _fixed_getinnerframes(etb, number_of_lines_of_context, tb_offset)\n",
      "  File \"C:\\Users\\Anna\\Anaconda3\\lib\\site-packages\\IPython\\core\\ultratb.py\", line 311, in wrapped\n",
      "    return f(*args, **kwargs)\n",
      "  File \"C:\\Users\\Anna\\Anaconda3\\lib\\site-packages\\IPython\\core\\ultratb.py\", line 345, in _fixed_getinnerframes\n",
      "    records = fix_frame_records_filenames(inspect.getinnerframes(etb, context))\n",
      "  File \"C:\\Users\\Anna\\Anaconda3\\lib\\inspect.py\", line 1483, in getinnerframes\n",
      "    frameinfo = (tb.tb_frame,) + getframeinfo(tb, context)\n",
      "  File \"C:\\Users\\Anna\\Anaconda3\\lib\\inspect.py\", line 1441, in getframeinfo\n",
      "    filename = getsourcefile(frame) or getfile(frame)\n",
      "  File \"C:\\Users\\Anna\\Anaconda3\\lib\\inspect.py\", line 696, in getsourcefile\n",
      "    if getattr(getmodule(object, filename), '__loader__', None) is not None:\n",
      "  File \"C:\\Users\\Anna\\Anaconda3\\lib\\inspect.py\", line 732, in getmodule\n",
      "    for modname, module in list(sys.modules.items()):\n",
      "KeyboardInterrupt\n"
     ]
    },
    {
     "ename": "NameError",
     "evalue": "name 'df2' is not defined",
     "output_type": "error",
     "traceback": [
      "\u001b[1;31m---------------------------------------------------------------------------\u001b[0m"
     ]
    }
   ],
   "source": [
    "for x in range(80):\n",
    "    df2= df[df['labels']==x].copy()\n",
    "    start_time = time.time()\n",
    "    try:\n",
    "        kproto = KPrototypes(n_clusters=len(clusters_indices[x])//10,init='random') #Used this to try to get the average cluster around size 10\n",
    "        kproto.fit(df2[['acousticness','danceability','duration_ms','energy','instrumentalness','liveness','speechiness','valence','key','mode','time_signature']],categorical=[8,9,10])\n",
    "    except ValueError:\n",
    "        kproto = KPrototypes(n_clusters=len(clusters_indices[x])//12,init='random') \n",
    "        #had to switch to 12 due to hardware limitations some of the clusters ended up too large to use 10\n",
    "        kproto.fit(df2[['acousticness','danceability','duration_ms','energy','instrumentalness','liveness','speechiness','valence','key','mode','time_signature']],categorical=[8,9,10])\n",
    "    df.loc[df.index.isin(df2.index),'secondary labels'] = kproto.labels_\n",
    "    end_time = time.time()\n",
    "    print(\"Cluster \"+ str(x) +\" Elapsed time was %g seconds\" % (end_time - start_time))\n"
   ]
  },
  {
   "cell_type": "markdown",
   "metadata": {},
   "source": [
    "Between the first and secondary labels I would've had small enough clusters in which to generate recommendations. "
   ]
  },
  {
   "cell_type": "code",
   "execution_count": 20,
   "metadata": {},
   "outputs": [],
   "source": [
    "df=pd.read_csv(r'C:\\Users\\Anna\\Desktop\\MSD_final.csv')"
   ]
  },
  {
   "cell_type": "markdown",
   "metadata": {},
   "source": [
    "I first counted the amount of secondary labels with the primary label and I saw a very skewed histogram meaning there were very uneven cluster sizes. This was confirmed when I looked at each cluster in the second histogram. "
   ]
  },
  {
   "cell_type": "code",
   "execution_count": null,
   "metadata": {},
   "outputs": [],
   "source": [
    "plt.hist(df['secondary labels'],label=df['labels']);"
   ]
  },
  {
   "cell_type": "code",
   "execution_count": 22,
   "metadata": {},
   "outputs": [
    {
     "data": {
      "text/plain": [
       "Text(0,0.5,'count')"
      ]
     },
     "execution_count": 22,
     "metadata": {},
     "output_type": "execute_result"
    },
    {
     "data": {
      "image/png": "[encoded data removed]",
      "text/plain": [
       "<matplotlib.figure.Figure at 0x257445f3cf8>"
      ]
     },
     "metadata": {},
     "output_type": "display_data"
    }
   ],
   "source": [
    "plt.rcParams['figure.figsize'] = [25, 15]\n",
    "df.hist(column='secondary labels',by='labels')\n",
    "plt.xlabel('second clustering')\n",
    "plt.ylabel('count')"
   ]
  },
  {
   "cell_type": "markdown",
   "metadata": {},
   "source": [
    "After looking at these visualizations it was apparent to me that the clusters were not all the same size and having 80 clusters, then even more additional clusters would make it confusing to try to actually pull the recommendations. \n",
    "\n",
    "Although I had tried so hard to try to find a clustering method that worked for me, including massaging KPrototypes a few times to make sure it was taking the categorical and numerical data correctly, I realized that KMeans would have done the trick without worrying about how KPrototypes was written, and so thus I set out to remedy my mistake by using KMeans clustering instead. "
   ]
  },
  {
   "cell_type": "markdown",
   "metadata": {},
   "source": [
    "# Building a Better Model! "
   ]
  },
  {
   "cell_type": "markdown",
   "metadata": {},
   "source": [
    "Instead of forcing data into KPrototypes, I decided to just go with naturally what came to mind when building recommenders, KMeans. When switching to KMeans, I could no longer use categorical data. What this required from me was to one hot encode all of my categorical data, which included the key, the mode, and the time signature."
   ]
  },
  {
   "cell_type": "code",
   "execution_count": 3,
   "metadata": {},
   "outputs": [
    {
     "data": {
      "text/html": [
       "<div>\n",
       "<style scoped>\n",
       "    .dataframe tbody tr th:only-of-type {\n",
       "        vertical-align: middle;\n",
       "    }\n",
       "\n",
       "    .dataframe tbody tr th {\n",
       "        vertical-align: top;\n",
       "    }\n",
       "\n",
       "    .dataframe thead th {\n",
       "        text-align: right;\n",
       "    }\n",
       "</style>\n",
       "<table border=\"1\" class=\"dataframe\">\n",
       "  <thead>\n",
       "    <tr style=\"text-align: right;\">\n",
       "      <th></th>\n",
       "      <th>acousticness</th>\n",
       "      <th>danceability</th>\n",
       "      <th>duration_ms</th>\n",
       "      <th>energy</th>\n",
       "      <th>id</th>\n",
       "      <th>instrumentalness</th>\n",
       "      <th>key</th>\n",
       "      <th>liveness</th>\n",
       "      <th>loudness</th>\n",
       "      <th>mode</th>\n",
       "      <th>speechiness</th>\n",
       "      <th>tempo</th>\n",
       "      <th>time_signature</th>\n",
       "      <th>valence</th>\n",
       "      <th>Artist</th>\n",
       "      <th>Name</th>\n",
       "    </tr>\n",
       "  </thead>\n",
       "  <tbody>\n",
       "    <tr>\n",
       "      <th>0</th>\n",
       "      <td>0.063000</td>\n",
       "      <td>0.751</td>\n",
       "      <td>0.073943</td>\n",
       "      <td>0.549</td>\n",
       "      <td>01TR6aAKrA2cI3Z0gnCOsu</td>\n",
       "      <td>0.000025</td>\n",
       "      <td>6</td>\n",
       "      <td>0.1060</td>\n",
       "      <td>0.740870</td>\n",
       "      <td>0.0</td>\n",
       "      <td>0.4290</td>\n",
       "      <td>0.374984</td>\n",
       "      <td>4</td>\n",
       "      <td>0.553</td>\n",
       "      <td>Casual</td>\n",
       "      <td>I Didn't Mean To</td>\n",
       "    </tr>\n",
       "    <tr>\n",
       "      <th>1</th>\n",
       "      <td>0.195000</td>\n",
       "      <td>0.749</td>\n",
       "      <td>0.049420</td>\n",
       "      <td>0.530</td>\n",
       "      <td>4yPl1mK1oluIrCwI4HInPR</td>\n",
       "      <td>0.000035</td>\n",
       "      <td>9</td>\n",
       "      <td>0.0748</td>\n",
       "      <td>0.697203</td>\n",
       "      <td>1.0</td>\n",
       "      <td>0.0326</td>\n",
       "      <td>0.493594</td>\n",
       "      <td>4</td>\n",
       "      <td>0.966</td>\n",
       "      <td>The Box Tops</td>\n",
       "      <td>Soul Deep</td>\n",
       "    </tr>\n",
       "    <tr>\n",
       "      <th>2</th>\n",
       "      <td>0.689000</td>\n",
       "      <td>0.699</td>\n",
       "      <td>0.061571</td>\n",
       "      <td>0.519</td>\n",
       "      <td>5JeyXbf7CrVQ8DqwFikN0P</td>\n",
       "      <td>0.000471</td>\n",
       "      <td>8</td>\n",
       "      <td>0.9350</td>\n",
       "      <td>0.814235</td>\n",
       "      <td>1.0</td>\n",
       "      <td>0.0290</td>\n",
       "      <td>0.416616</td>\n",
       "      <td>4</td>\n",
       "      <td>0.676</td>\n",
       "      <td>La Sonora Santanera</td>\n",
       "      <td>Amor de Cabaret (with Río Roma)</td>\n",
       "    </tr>\n",
       "    <tr>\n",
       "      <th>3</th>\n",
       "      <td>0.197000</td>\n",
       "      <td>0.596</td>\n",
       "      <td>0.078482</td>\n",
       "      <td>0.934</td>\n",
       "      <td>1BddSZ9x0Vi2WfZOSna47Z</td>\n",
       "      <td>0.007410</td>\n",
       "      <td>0</td>\n",
       "      <td>0.1840</td>\n",
       "      <td>0.861098</td>\n",
       "      <td>1.0</td>\n",
       "      <td>0.0459</td>\n",
       "      <td>0.488146</td>\n",
       "      <td>4</td>\n",
       "      <td>0.843</td>\n",
       "      <td>Adam Ant</td>\n",
       "      <td>Something Girls</td>\n",
       "    </tr>\n",
       "    <tr>\n",
       "      <th>4</th>\n",
       "      <td>0.000356</td>\n",
       "      <td>0.525</td>\n",
       "      <td>0.070727</td>\n",
       "      <td>0.918</td>\n",
       "      <td>4cdbM6efK43Cs2PDMtzdhv</td>\n",
       "      <td>0.566000</td>\n",
       "      <td>2</td>\n",
       "      <td>0.0904</td>\n",
       "      <td>0.848529</td>\n",
       "      <td>1.0</td>\n",
       "      <td>0.0543</td>\n",
       "      <td>0.527472</td>\n",
       "      <td>4</td>\n",
       "      <td>0.655</td>\n",
       "      <td>Gob</td>\n",
       "      <td>Face the Ashes</td>\n",
       "    </tr>\n",
       "  </tbody>\n",
       "</table>\n",
       "</div>"
      ],
      "text/plain": [
       "   acousticness  danceability  duration_ms  energy                      id  \\\n",
       "0      0.063000         0.751     0.073943   0.549  01TR6aAKrA2cI3Z0gnCOsu   \n",
       "1      0.195000         0.749     0.049420   0.530  4yPl1mK1oluIrCwI4HInPR   \n",
       "2      0.689000         0.699     0.061571   0.519  5JeyXbf7CrVQ8DqwFikN0P   \n",
       "3      0.197000         0.596     0.078482   0.934  1BddSZ9x0Vi2WfZOSna47Z   \n",
       "4      0.000356         0.525     0.070727   0.918  4cdbM6efK43Cs2PDMtzdhv   \n",
       "\n",
       "   instrumentalness  key  liveness  loudness  mode  speechiness     tempo  \\\n",
       "0          0.000025    6    0.1060  0.740870   0.0       0.4290  0.374984   \n",
       "1          0.000035    9    0.0748  0.697203   1.0       0.0326  0.493594   \n",
       "2          0.000471    8    0.9350  0.814235   1.0       0.0290  0.416616   \n",
       "3          0.007410    0    0.1840  0.861098   1.0       0.0459  0.488146   \n",
       "4          0.566000    2    0.0904  0.848529   1.0       0.0543  0.527472   \n",
       "\n",
       "   time_signature  valence               Artist  \\\n",
       "0               4    0.553               Casual   \n",
       "1               4    0.966         The Box Tops   \n",
       "2               4    0.676  La Sonora Santanera   \n",
       "3               4    0.843             Adam Ant   \n",
       "4               4    0.655                  Gob   \n",
       "\n",
       "                              Name  \n",
       "0                 I Didn't Mean To  \n",
       "1                        Soul Deep  \n",
       "2  Amor de Cabaret (with Río Roma)  \n",
       "3                  Something Girls  \n",
       "4                   Face the Ashes  "
      ]
     },
     "execution_count": 3,
     "metadata": {},
     "output_type": "execute_result"
    }
   ],
   "source": [
    "#Getting the adjusted/normalized data set, dropping labels since that was our first cluster. \n",
    "df= pd.read_csv(r'C:\\Users\\Anna\\Desktop\\MSD_firstcluster.csv')\n",
    "df=df.drop('labels',axis=1)\n",
    "df.head()"
   ]
  },
  {
   "cell_type": "code",
   "execution_count": 5,
   "metadata": {},
   "outputs": [],
   "source": [
    "#concerting categorical variables to numbers by one hot encode\n",
    "pd.get_dummies(data=df, columns=['key', 'mode','time_signature']);"
   ]
  },
  {
   "cell_type": "code",
   "execution_count": 6,
   "metadata": {},
   "outputs": [
    {
     "data": {
      "text/plain": [
       "Index(['acousticness', 'danceability', 'duration_ms', 'energy', 'id',\n",
       "       'instrumentalness', 'liveness', 'loudness', 'speechiness', 'tempo',\n",
       "       'valence', 'Artist', 'Name', 'key_0', 'key_1', 'key_2', 'key_3',\n",
       "       'key_4', 'key_5', 'key_6', 'key_7', 'key_8', 'key_9', 'key_10',\n",
       "       'key_11', 'mode_0.0', 'mode_1.0', 'time_signature_0',\n",
       "       'time_signature_1', 'time_signature_3', 'time_signature_4',\n",
       "       'time_signature_5'],\n",
       "      dtype='object')"
      ]
     },
     "execution_count": 6,
     "metadata": {},
     "output_type": "execute_result"
    }
   ],
   "source": [
    "df2 = pd.get_dummies(data=df, columns=['key', 'mode','time_signature']) \n",
    "df2.columns"
   ]
  },
  {
   "cell_type": "code",
   "execution_count": 8,
   "metadata": {},
   "outputs": [],
   "source": [
    "from sklearn.cluster import KMeans\n",
    "\n",
    "km = KMeans(n_clusters=1000,random_state=23,init='random')\n",
    "df2['kmean_cluster']=km.fit_predict(df2[['acousticness','danceability','duration_ms','energy','instrumentalness','liveness','speechiness','tempo','valence','key_0', 'key_1', 'key_2', 'key_3', 'key_4', 'key_5', 'key_6', 'key_7', 'key_8', 'key_9', 'key_10','key_11', 'mode_0.0', 'mode_1.0', 'time_signature_0','time_signature_1', 'time_signature_3', 'time_signature_4','time_signature_5']])"
   ]
  },
  {
   "cell_type": "code",
   "execution_count": 33,
   "metadata": {},
   "outputs": [
    {
     "data": {
      "text/html": [
       "<div>\n",
       "<style scoped>\n",
       "    .dataframe tbody tr th:only-of-type {\n",
       "        vertical-align: middle;\n",
       "    }\n",
       "\n",
       "    .dataframe tbody tr th {\n",
       "        vertical-align: top;\n",
       "    }\n",
       "\n",
       "    .dataframe thead th {\n",
       "        text-align: right;\n",
       "    }\n",
       "</style>\n",
       "<table border=\"1\" class=\"dataframe\">\n",
       "  <thead>\n",
       "    <tr style=\"text-align: right;\">\n",
       "      <th></th>\n",
       "      <th>acousticness</th>\n",
       "      <th>danceability</th>\n",
       "      <th>duration_ms</th>\n",
       "      <th>energy</th>\n",
       "      <th>id</th>\n",
       "      <th>instrumentalness</th>\n",
       "      <th>liveness</th>\n",
       "      <th>loudness</th>\n",
       "      <th>speechiness</th>\n",
       "      <th>tempo</th>\n",
       "      <th>...</th>\n",
       "      <th>key_10</th>\n",
       "      <th>key_11</th>\n",
       "      <th>mode_0.0</th>\n",
       "      <th>mode_1.0</th>\n",
       "      <th>time_signature_0</th>\n",
       "      <th>time_signature_1</th>\n",
       "      <th>time_signature_3</th>\n",
       "      <th>time_signature_4</th>\n",
       "      <th>time_signature_5</th>\n",
       "      <th>kmean_cluster</th>\n",
       "    </tr>\n",
       "  </thead>\n",
       "  <tbody>\n",
       "    <tr>\n",
       "      <th>0</th>\n",
       "      <td>0.063000</td>\n",
       "      <td>0.751</td>\n",
       "      <td>0.073943</td>\n",
       "      <td>0.549</td>\n",
       "      <td>01TR6aAKrA2cI3Z0gnCOsu</td>\n",
       "      <td>0.000025</td>\n",
       "      <td>0.1060</td>\n",
       "      <td>0.740870</td>\n",
       "      <td>0.4290</td>\n",
       "      <td>0.374984</td>\n",
       "      <td>...</td>\n",
       "      <td>0</td>\n",
       "      <td>0</td>\n",
       "      <td>1</td>\n",
       "      <td>0</td>\n",
       "      <td>0</td>\n",
       "      <td>0</td>\n",
       "      <td>0</td>\n",
       "      <td>1</td>\n",
       "      <td>0</td>\n",
       "      <td>871</td>\n",
       "    </tr>\n",
       "    <tr>\n",
       "      <th>1</th>\n",
       "      <td>0.195000</td>\n",
       "      <td>0.749</td>\n",
       "      <td>0.049420</td>\n",
       "      <td>0.530</td>\n",
       "      <td>4yPl1mK1oluIrCwI4HInPR</td>\n",
       "      <td>0.000035</td>\n",
       "      <td>0.0748</td>\n",
       "      <td>0.697203</td>\n",
       "      <td>0.0326</td>\n",
       "      <td>0.493594</td>\n",
       "      <td>...</td>\n",
       "      <td>0</td>\n",
       "      <td>0</td>\n",
       "      <td>0</td>\n",
       "      <td>1</td>\n",
       "      <td>0</td>\n",
       "      <td>0</td>\n",
       "      <td>0</td>\n",
       "      <td>1</td>\n",
       "      <td>0</td>\n",
       "      <td>275</td>\n",
       "    </tr>\n",
       "    <tr>\n",
       "      <th>2</th>\n",
       "      <td>0.689000</td>\n",
       "      <td>0.699</td>\n",
       "      <td>0.061571</td>\n",
       "      <td>0.519</td>\n",
       "      <td>5JeyXbf7CrVQ8DqwFikN0P</td>\n",
       "      <td>0.000471</td>\n",
       "      <td>0.9350</td>\n",
       "      <td>0.814235</td>\n",
       "      <td>0.0290</td>\n",
       "      <td>0.416616</td>\n",
       "      <td>...</td>\n",
       "      <td>0</td>\n",
       "      <td>0</td>\n",
       "      <td>0</td>\n",
       "      <td>1</td>\n",
       "      <td>0</td>\n",
       "      <td>0</td>\n",
       "      <td>0</td>\n",
       "      <td>1</td>\n",
       "      <td>0</td>\n",
       "      <td>818</td>\n",
       "    </tr>\n",
       "    <tr>\n",
       "      <th>3</th>\n",
       "      <td>0.197000</td>\n",
       "      <td>0.596</td>\n",
       "      <td>0.078482</td>\n",
       "      <td>0.934</td>\n",
       "      <td>1BddSZ9x0Vi2WfZOSna47Z</td>\n",
       "      <td>0.007410</td>\n",
       "      <td>0.1840</td>\n",
       "      <td>0.861098</td>\n",
       "      <td>0.0459</td>\n",
       "      <td>0.488146</td>\n",
       "      <td>...</td>\n",
       "      <td>0</td>\n",
       "      <td>0</td>\n",
       "      <td>0</td>\n",
       "      <td>1</td>\n",
       "      <td>0</td>\n",
       "      <td>0</td>\n",
       "      <td>0</td>\n",
       "      <td>1</td>\n",
       "      <td>0</td>\n",
       "      <td>719</td>\n",
       "    </tr>\n",
       "    <tr>\n",
       "      <th>4</th>\n",
       "      <td>0.000356</td>\n",
       "      <td>0.525</td>\n",
       "      <td>0.070727</td>\n",
       "      <td>0.918</td>\n",
       "      <td>4cdbM6efK43Cs2PDMtzdhv</td>\n",
       "      <td>0.566000</td>\n",
       "      <td>0.0904</td>\n",
       "      <td>0.848529</td>\n",
       "      <td>0.0543</td>\n",
       "      <td>0.527472</td>\n",
       "      <td>...</td>\n",
       "      <td>0</td>\n",
       "      <td>0</td>\n",
       "      <td>0</td>\n",
       "      <td>1</td>\n",
       "      <td>0</td>\n",
       "      <td>0</td>\n",
       "      <td>0</td>\n",
       "      <td>1</td>\n",
       "      <td>0</td>\n",
       "      <td>385</td>\n",
       "    </tr>\n",
       "  </tbody>\n",
       "</table>\n",
       "<p>5 rows × 33 columns</p>\n",
       "</div>"
      ],
      "text/plain": [
       "   acousticness  danceability  duration_ms  energy                      id  \\\n",
       "0      0.063000         0.751     0.073943   0.549  01TR6aAKrA2cI3Z0gnCOsu   \n",
       "1      0.195000         0.749     0.049420   0.530  4yPl1mK1oluIrCwI4HInPR   \n",
       "2      0.689000         0.699     0.061571   0.519  5JeyXbf7CrVQ8DqwFikN0P   \n",
       "3      0.197000         0.596     0.078482   0.934  1BddSZ9x0Vi2WfZOSna47Z   \n",
       "4      0.000356         0.525     0.070727   0.918  4cdbM6efK43Cs2PDMtzdhv   \n",
       "\n",
       "   instrumentalness  liveness  loudness  speechiness     tempo      ...        \\\n",
       "0          0.000025    0.1060  0.740870       0.4290  0.374984      ...         \n",
       "1          0.000035    0.0748  0.697203       0.0326  0.493594      ...         \n",
       "2          0.000471    0.9350  0.814235       0.0290  0.416616      ...         \n",
       "3          0.007410    0.1840  0.861098       0.0459  0.488146      ...         \n",
       "4          0.566000    0.0904  0.848529       0.0543  0.527472      ...         \n",
       "\n",
       "   key_10 key_11 mode_0.0  mode_1.0  time_signature_0  time_signature_1  \\\n",
       "0       0      0        1         0                 0                 0   \n",
       "1       0      0        0         1                 0                 0   \n",
       "2       0      0        0         1                 0                 0   \n",
       "3       0      0        0         1                 0                 0   \n",
       "4       0      0        0         1                 0                 0   \n",
       "\n",
       "   time_signature_3  time_signature_4  time_signature_5  kmean_cluster  \n",
       "0                 0                 1                 0            871  \n",
       "1                 0                 1                 0            275  \n",
       "2                 0                 1                 0            818  \n",
       "3                 0                 1                 0            719  \n",
       "4                 0                 1                 0            385  \n",
       "\n",
       "[5 rows x 33 columns]"
      ]
     },
     "execution_count": 33,
     "metadata": {},
     "output_type": "execute_result"
    }
   ],
   "source": [
    "df2.head()"
   ]
  },
  {
   "cell_type": "code",
   "execution_count": 10,
   "metadata": {},
   "outputs": [
    {
     "data": {
      "text/plain": [
       "812    2\n",
       "909    2\n",
       "109    2\n",
       "90     2\n",
       "352    2\n",
       "849    2\n",
       "763    2\n",
       "928    2\n",
       "373    2\n",
       "721    2\n",
       "67     2\n",
       "55     1\n",
       "308    1\n",
       "297    1\n",
       "569    1\n",
       "591    1\n",
       "596    1\n",
       "609    1\n",
       "643    1\n",
       "666    1\n",
       "Name: kmean_cluster, dtype: int64"
      ]
     },
     "execution_count": 10,
     "metadata": {},
     "output_type": "execute_result"
    }
   ],
   "source": [
    "df2['kmean_cluster'].value_counts().tail(20) \n",
    "#got the smaller clusters, as I would need to do something separate since they would not generate enough recommendations"
   ]
  },
  {
   "cell_type": "code",
   "execution_count": 37,
   "metadata": {},
   "outputs": [
    {
     "data": {
      "text/plain": [
       "1469.051168722175"
      ]
     },
     "execution_count": 37,
     "metadata": {},
     "output_type": "execute_result"
    }
   ],
   "source": [
    "km.inertia_ #inertia of the entire cluster shows the approximate summed distance between all of the cluster centroids"
   ]
  },
  {
   "cell_type": "code",
   "execution_count": 54,
   "metadata": {},
   "outputs": [],
   "source": [
    "X=df2[['acousticness','danceability','duration_ms','energy','instrumentalness','liveness','speechiness','tempo','valence','key_0', 'key_1', 'key_2', 'key_3', 'key_4', 'key_5', 'key_6', 'key_7', 'key_8', 'key_9', 'key_10','key_11', 'mode_0.0', 'mode_1.0', 'time_signature_0','time_signature_1', 'time_signature_3', 'time_signature_4','time_signature_5']]"
   ]
  },
  {
   "cell_type": "code",
   "execution_count": 55,
   "metadata": {},
   "outputs": [
    {
     "data": {
      "text/plain": [
       "235.38356379979714"
      ]
     },
     "execution_count": 55,
     "metadata": {},
     "output_type": "execute_result"
    }
   ],
   "source": [
    "import sklearn.metrics as metrics\n",
    "labels = km.labels_\n",
    "metrics.calinski_harabaz_score(X, labels) "
   ]
  },
  {
   "cell_type": "markdown",
   "metadata": {},
   "source": [
    "As you can see this is a relatively low inertia value compared to the several thousand of kprototypes, which means all songs should be generally well clustered around their cluster centers, meaning that the groups of songs around each cluster center should be similar enough in the categories that I had filtered for in the clustering. "
   ]
  },
  {
   "cell_type": "code",
   "execution_count": 35,
   "metadata": {},
   "outputs": [],
   "source": [
    "df2.to_csv(r'C:\\Users\\Anna\\Desktop\\MSDkmeans.csv',index=False)"
   ]
  },
  {
   "cell_type": "code",
   "execution_count": 36,
   "metadata": {},
   "outputs": [
    {
     "data": {
      "text/plain": [
       "count    1000.000000\n",
       "mean       13.908000\n",
       "std         7.460777\n",
       "min         1.000000\n",
       "25%         9.000000\n",
       "50%        13.000000\n",
       "75%        18.000000\n",
       "max        42.000000\n",
       "Name: kmean_cluster, dtype: float64"
      ]
     },
     "execution_count": 36,
     "metadata": {},
     "output_type": "execute_result"
    }
   ],
   "source": [
    "df2['kmean_cluster'].value_counts().describe()"
   ]
  },
  {
   "cell_type": "markdown",
   "metadata": {},
   "source": [
    "So I could see here that the mean cluster size was around 14, but the standard deviation was quite high and there were clusters as small as 1. Only having one song in a cluster would not generate a good recommendation system so what I decided to do for smaller clusters was generate pair wise differences by hand and pick the 5 closest songs and use those as recommendations. "
   ]
  },
  {
   "cell_type": "code",
   "execution_count": 3,
   "metadata": {},
   "outputs": [],
   "source": [
    "df=pd.read_csv(r'C:\\Users\\Anna\\Desktop\\MSDkmeans.csv')"
   ]
  },
  {
   "cell_type": "code",
   "execution_count": 4,
   "metadata": {},
   "outputs": [
    {
     "name": "stdout",
     "output_type": "stream",
     "text": [
      "Int64Index([334, 278, 494, 202, 546, 293,  59, 650, 962, 996,  79, 732, 779,\n",
      "            795, 444, 832, 499, 709, 752,  76, 411, 495, 537, 539, 388, 549,\n",
      "            135,   1, 869, 428, 731, 466, 244, 981, 422, 635, 201, 919, 289,\n",
      "            361, 885, 975, 939, 300, 325,  58, 868, 619, 150,  46,  34, 688,\n",
      "            511,  82, 660, 679, 496, 812, 909, 109,  90, 352, 849, 763, 928,\n",
      "            373, 721,  67,  55, 308, 297, 569, 591, 596, 609, 643, 666],\n",
      "           dtype='int64')\n"
     ]
    },
    {
     "data": {
      "text/plain": [
       "77"
      ]
     },
     "execution_count": 4,
     "metadata": {},
     "output_type": "execute_result"
    }
   ],
   "source": [
    "#This is finding which clusters had not enough songs, and grouping them together for safe keeping while we get all the songs \n",
    "vc = df['kmean_cluster'].value_counts()\n",
    "toosmall=vc[vc<5].index\n",
    "print(toosmall)\n",
    "len(toosmall)"
   ]
  },
  {
   "cell_type": "code",
   "execution_count": 5,
   "metadata": {},
   "outputs": [],
   "source": [
    "small = df.loc[df['kmean_cluster'].isin(toosmall)] #getting the clusters that were too small \n",
    "master = df[df.columns.difference(['id','Name','Artist','kmean_cluster'])]\n",
    "#getting rid of the columns that would affect pair difference"
   ]
  },
  {
   "cell_type": "code",
   "execution_count": 6,
   "metadata": {},
   "outputs": [
    {
     "name": "stdout",
     "output_type": "stream",
     "text": [
      "[43, 44, 61, 72, 181, 232, 270, 308, 315, 463, 529, 551, 587, 604, 640, 680, 692, 861, 884, 899, 911, 968, 985, 991, 1010, 1078, 1095, 1116, 1117, 1285, 1287, 1304, 1358, 1377, 1378, 1472, 1566, 1603, 1638, 1690, 1792, 1850, 1959, 1960, 2035, 2140, 2178, 2290, 2357, 2362, 2370, 2527, 2531, 2562, 2564, 2578, 2594, 2624, 2686, 2799, 2813, 2842, 2881, 2895, 3153, 3185, 3193, 3210, 3335, 3403, 3464, 3507, 3631, 3683, 3717, 3742, 3826, 3990, 4089, 4097, 4227, 4324, 4400, 4421, 4483, 4638, 4731, 4746, 4849, 4909, 5023, 5084, 5320, 5382, 5409, 5434, 5462, 5785, 5939, 5950, 6117, 6237, 6264, 6286, 6322, 6329, 6338, 6634, 6646, 6689, 6761, 6801, 6856, 6917, 6927, 6964, 7309, 7313, 7368, 7387, 7413, 7425, 7452, 7528, 7579, 7668, 7691, 7791, 7868, 8155, 8185, 8214, 8296, 8303, 8579, 8689, 8733, 8804, 8852, 8868, 8886, 8981, 9006, 9102, 9107, 9123, 9220, 9324, 9413, 9416, 9479, 9526, 9562, 9566, 9710, 9749, 9768, 9773, 9857, 9898, 9992, 10006, 10128, 10205, 10237, 10279, 10328, 10354, 10398, 10416, 10505, 10552, 10701, 10743, 10776, 10804, 10822, 10842, 10847, 10903, 10942, 11141, 11269, 11436, 11451, 11470, 11495, 11583, 11592, 11620, 11634, 11662, 11664, 11852, 11853, 11920, 11996, 12068, 12075, 12179, 12215, 12237, 12274, 12302, 12333, 12380, 12408, 12567, 12657, 12748, 12795, 12839, 12846, 12877, 12894, 12957, 13068, 13103, 13347, 13488, 13497, 13526, 13540, 13596, 13618, 13648, 13682, 13690, 13718, 13842, 13878, 13899]\n"
     ]
    }
   ],
   "source": [
    "songs = list(small.index)\n",
    "print(songs)\n",
    "# This is the list of songs that are in the clusters with less than 4 other songs that could be recommended to"
   ]
  },
  {
   "cell_type": "code",
   "execution_count": 7,
   "metadata": {},
   "outputs": [
    {
     "name": "stdout",
     "output_type": "stream",
     "text": [
      "      43        44        61        72        181       232       270    \\\n",
      "0  2.167174  2.115918  2.251973  2.364924  2.648891  2.462953  2.067588   \n",
      "1  1.759433  1.484175  1.805070  1.543547  2.148891  2.014867  1.524730   \n",
      "2  0.992017  1.659095  1.502826  1.858187  2.344665  1.990346  1.664950   \n",
      "3  1.686271  1.428271  1.766870  1.900844  2.196067  2.093080  1.451237   \n",
      "4  1.794090  1.584084  1.236853  1.952257  2.131165  1.956229  1.577851   \n",
      "\n",
      "      308       315       463      ...        13540     13596     13618  \\\n",
      "0  2.263940  2.134781  2.378889    ...     1.924593  2.202226  1.862825   \n",
      "1  1.980158  1.466540  2.136700    ...     2.433695  1.616666  2.791713   \n",
      "2  1.790125  1.834116  1.844469    ...     2.450050  1.504538  2.906229   \n",
      "3  1.990072  1.542504  2.031524    ...     2.505267  0.726872  2.731019   \n",
      "4  1.556327  1.652263  2.137138    ...     2.516201  1.759129  2.541274   \n",
      "\n",
      "      13648     13682     13690     13718     13842     13878     13899  \n",
      "0  2.401160  1.749170  2.221982  1.654894  1.533959  2.905893  2.088675  \n",
      "1  2.898934  2.266146  2.695337  2.215076  2.111699  2.633139  1.529626  \n",
      "2  2.788000  2.152590  2.835212  2.375534  2.253442  2.592943  1.669886  \n",
      "3  2.770636  2.169858  2.616355  2.117457  2.062737  2.512652  1.438433  \n",
      "4  2.775885  2.263023  2.488847  2.136812  2.139802  2.322881  1.577953  \n",
      "\n",
      "[5 rows x 232 columns]\n"
     ]
    }
   ],
   "source": [
    "#building the pair distance dataframe by calculating difference between referenced song and all other songs\n",
    "from scipy.spatial import distance\n",
    "newdf = pd.DataFrame()\n",
    "for each in songs:\n",
    "    start_time = time.time()\n",
    "    distances = []\n",
    "    for row in range(len(master)):\n",
    "        distances.append(distance.euclidean(master.loc[each],master.iloc[row]))\n",
    "    newdf[each]=distances\n",
    "    end_time = time.time()\n",
    "print(newdf.head())"
   ]
  },
  {
   "cell_type": "code",
   "execution_count": 9,
   "metadata": {},
   "outputs": [],
   "source": [
    "reco=[]\n",
    "names=[]\n",
    "for each in songs:\n",
    "    name = df.loc[each,'Name']\n",
    "    names.append(name)\n",
    "    relate = list(newdf[each].sort_values()[1:6].index)#grabbed lowest 5 songs of distance not including itself \n",
    "    rec=[]\n",
    "    for i in relate:\n",
    "        ff=df.loc[i,['Artist','Name']].tolist()\n",
    "        ff2 = [\"Artist: \" + ff[0],\"Name: \"+ff[1]] #added each song of the lowest 5 into a list to return\n",
    "        rec.append(ff2)\n",
    "    reco.append(rec)"
   ]
  },
  {
   "cell_type": "code",
   "execution_count": 10,
   "metadata": {},
   "outputs": [],
   "source": [
    "smallcheck = pd.DataFrame(\n",
    "    {'NameSong': names,\n",
    "     'Recommendations': reco\n",
    "    })"
   ]
  },
  {
   "cell_type": "code",
   "execution_count": 11,
   "metadata": {},
   "outputs": [],
   "source": [
    "import random"
   ]
  },
  {
   "cell_type": "markdown",
   "metadata": {},
   "source": [
    "# Recommendation System In Action\n"
   ]
  },
  {
   "cell_type": "code",
   "execution_count": 22,
   "metadata": {},
   "outputs": [
    {
     "name": "stdout",
     "output_type": "stream",
     "text": [
      "Yoda\n",
      "2.0461511117183937\n",
      "Artist: Helen Love, Name: So Hot\n",
      "Artist: Nichole Nordeman, Name: Do You Hear What I Hear\n",
      "Artist: Die Fantastischen Vier, Name: Was wollen wir noch mehr?\n",
      "Artist: David Cassidy, Name: Darlin'\n",
      "Artist: Warrior King, Name: Breath Of Fresh Air\n"
     ]
    }
   ],
   "source": [
    "a = input()\n",
    "if any(a in word for word in names): #checking in dataframe of premade recommendations\n",
    "    recommend = smallcheck.loc[smallcheck['NameSong']==a]['Recommendations']\n",
    "    group = recommend.index.item()\n",
    "    print(newdf.iloc[group].mean())\n",
    "    for values in recommend:\n",
    "        for each in values:\n",
    "            print(\", \".join(each))\n",
    "else:\n",
    "    cluster = df.loc[df['Name']==a]['kmean_cluster'].values #cluster number\n",
    "    cluster = random.choice(cluster) #if more than one cluster was returned due to same song name, pick one\n",
    "    parser= list(df.loc[df['kmean_cluster']==cluster].index) #get a list of indexes where the cluster number is shared\n",
    "    numberselect= 5\n",
    "    random_index= random.sample(parser,5) #get 5 random indexes from the list where they are shared\n",
    "    print(random_index)\n",
    "    for each in random_index:\n",
    "        recsong= df.iloc[each]['Name']\n",
    "        recart= df.iloc[each]['Artist']\n",
    "        print('Artist: ' + recart + ', Name: '+ recsong) #prints the recommendation\n",
    "        print('Pairwise distance to Original Song: '+ str(distance.euclidean(master.loc[df['Name']==a],master.loc[each]))) #print pairwise distance of the song"
   ]
  },
  {
   "cell_type": "code",
   "execution_count": 24,
   "metadata": {},
   "outputs": [
    {
     "name": "stdout",
     "output_type": "stream",
     "text": [
      "High Tide\n",
      "Artist: Cargo Cult, Name: Helium\n",
      "Pairwise distance to Original Song: 0.41652199498929665\n",
      "Artist: Richard Souther, Name: High Tide\n",
      "Pairwise distance to Original Song: 0.0\n",
      "Artist: Jessy, Name: Look at me now - E-Ject Remix\n",
      "Pairwise distance to Original Song: 0.44321234759199857\n",
      "Artist: True Lies, Name: Valeries Biography\n",
      "Pairwise distance to Original Song: 0.5012196075475738\n",
      "Artist: Fleet Foxes, Name: English House\n",
      "Pairwise distance to Original Song: 0.35648386100183177\n"
     ]
    }
   ],
   "source": [
    "a = input()\n",
    "if any(a in word for word in names): #checking in dataframe of premade recommendations\n",
    "    recommend = smallcheck.loc[smallcheck['NameSong']==a]['Recommendations']\n",
    "    group = recommend.index.item()\n",
    "    print(newdf.iloc[group].mean())\n",
    "    for values in recommend:\n",
    "        for each in values:\n",
    "            print(\", \".join(each))\n",
    "else:\n",
    "    cluster = df.loc[df['Name']==a]['kmean_cluster'].values #cluster number\n",
    "    cluster = random.choice(cluster)\n",
    "    parser= list(df.loc[df['kmean_cluster']==cluster].index)\n",
    "    numberselect= 5\n",
    "    random_index= random.sample(parser,5)\n",
    "    for each in random_index:\n",
    "        recsong= df.iloc[each]['Name']\n",
    "        recart= df.iloc[each]['Artist']\n",
    "        print('Artist: ' + recart + ', Name: '+ recsong)\n",
    "        print('Pairwise distance to Original Song: '+ str(distance.euclidean(master.loc[df['Name']==a],master.loc[each])))"
   ]
  },
  {
   "cell_type": "code",
   "execution_count": 25,
   "metadata": {},
   "outputs": [
    {
     "name": "stdout",
     "output_type": "stream",
     "text": [
      "Biding Her Time\n",
      "Artist: Jim Reeves, Name: I Guess I'm Crazy\n",
      "Pairwise distance to Original Song: 0.5146289653364899\n",
      "Artist: Tex Williams, Name: Start Even\n",
      "Pairwise distance to Original Song: 0.3603012086067515\n",
      "Artist: Angelo Badalamenti, Name: Overture/Blue Tahitian Moon\n",
      "Pairwise distance to Original Song: 0.8172226525209572\n",
      "Artist: Mickey Gilley, Name: World Of Our Own\n",
      "Pairwise distance to Original Song: 0.4220466488848639\n",
      "Artist: We Show Up On Radar, Name: Like a Bird Pulling Up At a Worm\n",
      "Pairwise distance to Original Song: 0.5999379860430777\n"
     ]
    }
   ],
   "source": [
    "a = input()\n",
    "if any(a in word for word in names): #checking in dataframe of premade recommendations\n",
    "    recommend = smallcheck.loc[smallcheck['NameSong']==a]['Recommendations']\n",
    "    group = recommend.index.item()\n",
    "    print(newdf.iloc[group].mean())\n",
    "    for values in recommend:\n",
    "        for each in values:\n",
    "            print(\", \".join(each))\n",
    "else:\n",
    "    cluster = df.loc[df['Name']==a]['kmean_cluster'].values #cluster number\n",
    "    cluster = random.choice(cluster)\n",
    "    parser= list(df.loc[df['kmean_cluster']==cluster].index)\n",
    "    numberselect= 5\n",
    "    random_index= random.sample(parser,5)\n",
    "    for each in random_index:\n",
    "        recsong= df.iloc[each]['Name']\n",
    "        recart= df.iloc[each]['Artist']\n",
    "        print('Artist: ' + recart + ', Name: '+ recsong)\n",
    "        print('Pairwise distance to Original Song: '+ str(distance.euclidean(master.loc[df['Name']==a],master.loc[each])))"
   ]
  },
  {
   "cell_type": "code",
   "execution_count": 26,
   "metadata": {},
   "outputs": [
    {
     "name": "stdout",
     "output_type": "stream",
     "text": [
      "Jenny Take A Ride\n",
      "Artist: Nomadi, Name: Il Libero\n",
      "Pairwise distance to Original Song: 0.2711806175666563\n",
      "Artist: The Legendary Stardust Cowboy, Name: I Hate CD's\n",
      "Pairwise distance to Original Song: 0.32331488884275167\n",
      "Artist: The Bonzo Dog Band, Name: The Strain - 2007 Remastered Version\n",
      "Pairwise distance to Original Song: 0.25373318578722237\n",
      "Artist: Reni, Name: Nema dana ni meseca\n",
      "Pairwise distance to Original Song: 0.227544776518119\n",
      "Artist: Sheila Walsh, Name: Circle Of Hands - For A Time Like This Album Version\n",
      "Pairwise distance to Original Song: 0.21162946887254883\n"
     ]
    }
   ],
   "source": [
    "a = input()\n",
    "if any(a in word for word in names): #checking in dataframe of premade recommendations\n",
    "    recommend = smallcheck.loc[smallcheck['NameSong']==a]['Recommendations']\n",
    "    group = recommend.index.item()\n",
    "    print(newdf.iloc[group].mean())\n",
    "    for values in recommend:\n",
    "        for each in values:\n",
    "            print(\", \".join(each))\n",
    "else:\n",
    "    cluster = df.loc[df['Name']==a]['kmean_cluster'].values #cluster number\n",
    "    cluster = random.choice(cluster)\n",
    "    parser= list(df.loc[df['kmean_cluster']==cluster].index)\n",
    "    numberselect= 5\n",
    "    random_index= random.sample(parser,5)\n",
    "    for each in random_index:\n",
    "        recsong= df.iloc[each]['Name']\n",
    "        recart= df.iloc[each]['Artist']\n",
    "        print('Artist: ' + recart + ', Name: '+ recsong)\n",
    "        print('Pairwise distance to Original Song: '+ str(distance.euclidean(master.loc[df['Name']==a],master.loc[each])))"
   ]
  },
  {
   "cell_type": "code",
   "execution_count": null,
   "metadata": {},
   "outputs": [],
   "source": []
  }
 ],
 "metadata": {
  "kernelspec": {
   "display_name": "Python 3",
   "language": "python",
   "name": "python3"
  },
  "language_info": {
   "codemirror_mode": {
    "name": "ipython",
    "version": 3
   },
   "file_extension": ".py",
   "mimetype": "text/x-python",
   "name": "python",
   "nbconvert_exporter": "python",
   "pygments_lexer": "ipython3",
   "version": "3.6.4"
  }
 },
 "nbformat": 4,
 "nbformat_minor": 2
}
